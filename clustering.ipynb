{
 "cells": [
  {
   "cell_type": "code",
   "execution_count": 1,
   "id": "a5119cc2",
   "metadata": {
    "_cell_guid": "b1076dfc-b9ad-4769-8c92-a6c4dae69d19",
    "_uuid": "8f2839f25d086af736a60e9eeb907d3b93b6e0e5",
    "execution": {
     "iopub.execute_input": "2022-04-19T17:43:14.839158Z",
     "iopub.status.busy": "2022-04-19T17:43:14.838539Z",
     "iopub.status.idle": "2022-04-19T17:43:14.862093Z",
     "shell.execute_reply": "2022-04-19T17:43:14.860948Z"
    },
    "papermill": {
     "duration": 0.082915,
     "end_time": "2022-04-19T17:43:14.865436",
     "exception": false,
     "start_time": "2022-04-19T17:43:14.782521",
     "status": "completed"
    },
    "tags": []
   },
   "outputs": [
    {
     "name": "stdout",
     "output_type": "stream",
     "text": [
      "/kaggle/input/emitten-list/Emittenlist.csv\n",
      "/kaggle/input/pertambangan/pertambangan.csv\n"
     ]
    }
   ],
   "source": [
    "# This Python 3 environment comes with many helpful analytics libraries installed\n",
    "# It is defined by the kaggle/python Docker image: https://github.com/kaggle/docker-python\n",
    "# For example, here's several helpful packages to load\n",
    "\n",
    "import numpy as np # linear algebra\n",
    "import pandas as pd # data processing, CSV file I/O (e.g. pd.read_csv)\n",
    "\n",
    "# Input data files are available in the read-only \"../input/\" directory\n",
    "# For example, running this (by clicking run or pressing Shift+Enter) will list all files under the input directory\n",
    "\n",
    "import os\n",
    "for dirname, _, filenames in os.walk('/kaggle/input'):\n",
    "    for filename in filenames:\n",
    "        print(os.path.join(dirname, filename))\n",
    "\n",
    "# You can write up to 20GB to the current directory (/kaggle/working/) that gets preserved as output when you create a version using \"Save & Run All\" \n",
    "# You can also write temporary files to /kaggle/temp/, but they won't be saved outside of the current session"
   ]
  },
  {
   "cell_type": "code",
   "execution_count": 2,
   "id": "495a84b7",
   "metadata": {
    "execution": {
     "iopub.execute_input": "2022-04-19T17:43:14.980331Z",
     "iopub.status.busy": "2022-04-19T17:43:14.979483Z",
     "iopub.status.idle": "2022-04-19T17:43:16.240118Z",
     "shell.execute_reply": "2022-04-19T17:43:16.238412Z"
    },
    "papermill": {
     "duration": 1.319649,
     "end_time": "2022-04-19T17:43:16.243174",
     "exception": false,
     "start_time": "2022-04-19T17:43:14.923525",
     "status": "completed"
    },
    "tags": []
   },
   "outputs": [],
   "source": [
    "import pandas as pd \n",
    "import numpy as np\n",
    "import matplotlib.pyplot as plt\n",
    "import seaborn as sns\n",
    "from matplotlib.colors import ListedColormap\n",
    "%matplotlib inline\n",
    "from scipy import stats"
   ]
  },
  {
   "cell_type": "markdown",
   "id": "05a779ee",
   "metadata": {
    "papermill": {
     "duration": 0.05386,
     "end_time": "2022-04-19T17:43:16.351072",
     "exception": false,
     "start_time": "2022-04-19T17:43:16.297212",
     "status": "completed"
    },
    "tags": []
   },
   "source": [
    "# **1. Exploratory Data Analysis**"
   ]
  },
  {
   "cell_type": "markdown",
   "id": "c96014ec",
   "metadata": {
    "papermill": {
     "duration": 0.052416,
     "end_time": "2022-04-19T17:43:16.455964",
     "exception": false,
     "start_time": "2022-04-19T17:43:16.403548",
     "status": "completed"
    },
    "tags": []
   },
   "source": [
    "# **1.1 Load Data**"
   ]
  },
  {
   "cell_type": "code",
   "execution_count": 3,
   "id": "e150aaeb",
   "metadata": {
    "execution": {
     "iopub.execute_input": "2022-04-19T17:43:16.566998Z",
     "iopub.status.busy": "2022-04-19T17:43:16.565853Z",
     "iopub.status.idle": "2022-04-19T17:43:16.604261Z",
     "shell.execute_reply": "2022-04-19T17:43:16.603350Z"
    },
    "papermill": {
     "duration": 0.098496,
     "end_time": "2022-04-19T17:43:16.607960",
     "exception": false,
     "start_time": "2022-04-19T17:43:16.509464",
     "status": "completed"
    },
    "tags": []
   },
   "outputs": [
    {
     "name": "stdout",
     "output_type": "stream",
     "text": [
      "<class 'pandas.core.frame.DataFrame'>\n",
      "RangeIndex: 38 entries, 0 to 37\n",
      "Data columns (total 6 columns):\n",
      " #   Column                   Non-Null Count  Dtype  \n",
      "---  ------                   --------------  -----  \n",
      " 0   Emitten                  38 non-null     object \n",
      " 1   DER                      38 non-null     float64\n",
      " 2   Operating Profit Margin  38 non-null     float64\n",
      " 3   Return On Asset          38 non-null     float64\n",
      " 4   Sales Growth             38 non-null     float64\n",
      " 5   Category                 0 non-null      float64\n",
      "dtypes: float64(5), object(1)\n",
      "memory usage: 1.9+ KB\n"
     ]
    }
   ],
   "source": [
    "df0 = pd.read_csv('../input/pertambangan/pertambangan.csv')\n",
    "df0.info()"
   ]
  },
  {
   "cell_type": "code",
   "execution_count": 4,
   "id": "2e505f90",
   "metadata": {
    "execution": {
     "iopub.execute_input": "2022-04-19T17:43:16.715661Z",
     "iopub.status.busy": "2022-04-19T17:43:16.715120Z",
     "iopub.status.idle": "2022-04-19T17:43:16.757956Z",
     "shell.execute_reply": "2022-04-19T17:43:16.756715Z"
    },
    "papermill": {
     "duration": 0.098497,
     "end_time": "2022-04-19T17:43:16.760650",
     "exception": false,
     "start_time": "2022-04-19T17:43:16.662153",
     "status": "completed"
    },
    "tags": []
   },
   "outputs": [
    {
     "data": {
      "text/html": [
       "<div>\n",
       "<style scoped>\n",
       "    .dataframe tbody tr th:only-of-type {\n",
       "        vertical-align: middle;\n",
       "    }\n",
       "\n",
       "    .dataframe tbody tr th {\n",
       "        vertical-align: top;\n",
       "    }\n",
       "\n",
       "    .dataframe thead th {\n",
       "        text-align: right;\n",
       "    }\n",
       "</style>\n",
       "<table border=\"1\" class=\"dataframe\">\n",
       "  <thead>\n",
       "    <tr style=\"text-align: right;\">\n",
       "      <th></th>\n",
       "      <th>DER</th>\n",
       "      <th>Operating Profit Margin</th>\n",
       "      <th>Return On Asset</th>\n",
       "      <th>Sales Growth</th>\n",
       "      <th>Category</th>\n",
       "    </tr>\n",
       "  </thead>\n",
       "  <tbody>\n",
       "    <tr>\n",
       "      <th>count</th>\n",
       "      <td>38.000000</td>\n",
       "      <td>38.000000</td>\n",
       "      <td>38.000000</td>\n",
       "      <td>38.000000</td>\n",
       "      <td>0.0</td>\n",
       "    </tr>\n",
       "    <tr>\n",
       "      <th>mean</th>\n",
       "      <td>0.090254</td>\n",
       "      <td>77.623896</td>\n",
       "      <td>0.027221</td>\n",
       "      <td>0.308828</td>\n",
       "      <td>NaN</td>\n",
       "    </tr>\n",
       "    <tr>\n",
       "      <th>std</th>\n",
       "      <td>6.235241</td>\n",
       "      <td>209.671168</td>\n",
       "      <td>0.248929</td>\n",
       "      <td>0.482354</td>\n",
       "      <td>NaN</td>\n",
       "    </tr>\n",
       "    <tr>\n",
       "      <th>min</th>\n",
       "      <td>-26.250000</td>\n",
       "      <td>-230.610000</td>\n",
       "      <td>-1.190000</td>\n",
       "      <td>-0.371777</td>\n",
       "      <td>NaN</td>\n",
       "    </tr>\n",
       "    <tr>\n",
       "      <th>25%</th>\n",
       "      <td>0.312500</td>\n",
       "      <td>-1.883337</td>\n",
       "      <td>-0.020000</td>\n",
       "      <td>0.000000</td>\n",
       "      <td>NaN</td>\n",
       "    </tr>\n",
       "    <tr>\n",
       "      <th>50%</th>\n",
       "      <td>0.650000</td>\n",
       "      <td>3.588500</td>\n",
       "      <td>0.010000</td>\n",
       "      <td>0.170151</td>\n",
       "      <td>NaN</td>\n",
       "    </tr>\n",
       "    <tr>\n",
       "      <th>75%</th>\n",
       "      <td>1.465000</td>\n",
       "      <td>41.302500</td>\n",
       "      <td>0.095000</td>\n",
       "      <td>0.660500</td>\n",
       "      <td>NaN</td>\n",
       "    </tr>\n",
       "    <tr>\n",
       "      <th>max</th>\n",
       "      <td>12.220000</td>\n",
       "      <td>744.890000</td>\n",
       "      <td>0.460000</td>\n",
       "      <td>1.426756</td>\n",
       "      <td>NaN</td>\n",
       "    </tr>\n",
       "  </tbody>\n",
       "</table>\n",
       "</div>"
      ],
      "text/plain": [
       "             DER  Operating Profit Margin  Return On Asset  Sales Growth  \\\n",
       "count  38.000000                38.000000        38.000000     38.000000   \n",
       "mean    0.090254                77.623896         0.027221      0.308828   \n",
       "std     6.235241               209.671168         0.248929      0.482354   \n",
       "min   -26.250000              -230.610000        -1.190000     -0.371777   \n",
       "25%     0.312500                -1.883337        -0.020000      0.000000   \n",
       "50%     0.650000                 3.588500         0.010000      0.170151   \n",
       "75%     1.465000                41.302500         0.095000      0.660500   \n",
       "max    12.220000               744.890000         0.460000      1.426756   \n",
       "\n",
       "       Category  \n",
       "count       0.0  \n",
       "mean        NaN  \n",
       "std         NaN  \n",
       "min         NaN  \n",
       "25%         NaN  \n",
       "50%         NaN  \n",
       "75%         NaN  \n",
       "max         NaN  "
      ]
     },
     "execution_count": 4,
     "metadata": {},
     "output_type": "execute_result"
    }
   ],
   "source": [
    "df0.describe()"
   ]
  },
  {
   "cell_type": "markdown",
   "id": "d7e8d4a8",
   "metadata": {
    "papermill": {
     "duration": 0.052286,
     "end_time": "2022-04-19T17:43:16.870245",
     "exception": false,
     "start_time": "2022-04-19T17:43:16.817959",
     "status": "completed"
    },
    "tags": []
   },
   "source": [
    "# **1.2 Data Cleansing**"
   ]
  },
  {
   "cell_type": "code",
   "execution_count": 5,
   "id": "b54b5367",
   "metadata": {
    "execution": {
     "iopub.execute_input": "2022-04-19T17:43:16.982723Z",
     "iopub.status.busy": "2022-04-19T17:43:16.982361Z",
     "iopub.status.idle": "2022-04-19T17:43:16.988832Z",
     "shell.execute_reply": "2022-04-19T17:43:16.987829Z"
    },
    "papermill": {
     "duration": 0.064989,
     "end_time": "2022-04-19T17:43:16.991225",
     "exception": false,
     "start_time": "2022-04-19T17:43:16.926236",
     "status": "completed"
    },
    "tags": []
   },
   "outputs": [],
   "source": [
    "df0.drop([\"Emitten\",\"Category\"], axis=1, inplace=True)"
   ]
  },
  {
   "cell_type": "markdown",
   "id": "8cd1c29a",
   "metadata": {
    "papermill": {
     "duration": 0.05387,
     "end_time": "2022-04-19T17:43:17.101196",
     "exception": false,
     "start_time": "2022-04-19T17:43:17.047326",
     "status": "completed"
    },
    "tags": []
   },
   "source": [
    "# **1.3 Scatter Plot**"
   ]
  },
  {
   "cell_type": "code",
   "execution_count": 6,
   "id": "e2835d4b",
   "metadata": {
    "execution": {
     "iopub.execute_input": "2022-04-19T17:43:17.213873Z",
     "iopub.status.busy": "2022-04-19T17:43:17.213525Z",
     "iopub.status.idle": "2022-04-19T17:43:19.397970Z",
     "shell.execute_reply": "2022-04-19T17:43:19.396475Z"
    },
    "papermill": {
     "duration": 2.244278,
     "end_time": "2022-04-19T17:43:19.400546",
     "exception": false,
     "start_time": "2022-04-19T17:43:17.156268",
     "status": "completed"
    },
    "tags": []
   },
   "outputs": [
    {
     "data": {
      "text/plain": [
       "<Figure size 1080x1080 with 0 Axes>"
      ]
     },
     "metadata": {},
     "output_type": "display_data"
    },
    {
     "data": {
      "image/png": "[encoded data removed]",
      "text/plain": [
       "<Figure size 540x540 with 12 Axes>"
      ]
     },
     "metadata": {
      "needs_background": "light"
     },
     "output_type": "display_data"
    }
   ],
   "source": [
    "plt.figure(figsize=(15, 15))\n",
    "sns.pairplot(df0, vars = df0.columns[1:13]);"
   ]
  },
  {
   "cell_type": "markdown",
   "id": "de253298",
   "metadata": {
    "papermill": {
     "duration": 0.057556,
     "end_time": "2022-04-19T17:43:19.514642",
     "exception": false,
     "start_time": "2022-04-19T17:43:19.457086",
     "status": "completed"
    },
    "tags": []
   },
   "source": [
    "# **2. Clustering**"
   ]
  },
  {
   "cell_type": "markdown",
   "id": "fbf42ff8",
   "metadata": {
    "papermill": {
     "duration": 0.053625,
     "end_time": "2022-04-19T17:43:19.623519",
     "exception": false,
     "start_time": "2022-04-19T17:43:19.569894",
     "status": "completed"
    },
    "tags": []
   },
   "source": [
    "# **2.1 Load Data**"
   ]
  },
  {
   "cell_type": "code",
   "execution_count": 7,
   "id": "31dcabe4",
   "metadata": {
    "execution": {
     "iopub.execute_input": "2022-04-19T17:43:19.732594Z",
     "iopub.status.busy": "2022-04-19T17:43:19.732313Z",
     "iopub.status.idle": "2022-04-19T17:43:19.765820Z",
     "shell.execute_reply": "2022-04-19T17:43:19.764918Z"
    },
    "papermill": {
     "duration": 0.089182,
     "end_time": "2022-04-19T17:43:19.768229",
     "exception": false,
     "start_time": "2022-04-19T17:43:19.679047",
     "status": "completed"
    },
    "tags": []
   },
   "outputs": [
    {
     "data": {
      "text/html": [
       "<div>\n",
       "<style scoped>\n",
       "    .dataframe tbody tr th:only-of-type {\n",
       "        vertical-align: middle;\n",
       "    }\n",
       "\n",
       "    .dataframe tbody tr th {\n",
       "        vertical-align: top;\n",
       "    }\n",
       "\n",
       "    .dataframe thead th {\n",
       "        text-align: right;\n",
       "    }\n",
       "</style>\n",
       "<table border=\"1\" class=\"dataframe\">\n",
       "  <thead>\n",
       "    <tr style=\"text-align: right;\">\n",
       "      <th></th>\n",
       "      <th>DER</th>\n",
       "      <th>Operating Profit Margin</th>\n",
       "      <th>Return On Asset</th>\n",
       "      <th>Sales Growth</th>\n",
       "      <th>Category</th>\n",
       "    </tr>\n",
       "  </thead>\n",
       "  <tbody>\n",
       "    <tr>\n",
       "      <th>count</th>\n",
       "      <td>38.000000</td>\n",
       "      <td>38.000000</td>\n",
       "      <td>38.000000</td>\n",
       "      <td>38.000000</td>\n",
       "      <td>0.0</td>\n",
       "    </tr>\n",
       "    <tr>\n",
       "      <th>mean</th>\n",
       "      <td>0.090254</td>\n",
       "      <td>77.623896</td>\n",
       "      <td>0.027221</td>\n",
       "      <td>0.308828</td>\n",
       "      <td>NaN</td>\n",
       "    </tr>\n",
       "    <tr>\n",
       "      <th>std</th>\n",
       "      <td>6.235241</td>\n",
       "      <td>209.671168</td>\n",
       "      <td>0.248929</td>\n",
       "      <td>0.482354</td>\n",
       "      <td>NaN</td>\n",
       "    </tr>\n",
       "    <tr>\n",
       "      <th>min</th>\n",
       "      <td>-26.250000</td>\n",
       "      <td>-230.610000</td>\n",
       "      <td>-1.190000</td>\n",
       "      <td>-0.371777</td>\n",
       "      <td>NaN</td>\n",
       "    </tr>\n",
       "    <tr>\n",
       "      <th>25%</th>\n",
       "      <td>0.312500</td>\n",
       "      <td>-1.883337</td>\n",
       "      <td>-0.020000</td>\n",
       "      <td>0.000000</td>\n",
       "      <td>NaN</td>\n",
       "    </tr>\n",
       "    <tr>\n",
       "      <th>50%</th>\n",
       "      <td>0.650000</td>\n",
       "      <td>3.588500</td>\n",
       "      <td>0.010000</td>\n",
       "      <td>0.170151</td>\n",
       "      <td>NaN</td>\n",
       "    </tr>\n",
       "    <tr>\n",
       "      <th>75%</th>\n",
       "      <td>1.465000</td>\n",
       "      <td>41.302500</td>\n",
       "      <td>0.095000</td>\n",
       "      <td>0.660500</td>\n",
       "      <td>NaN</td>\n",
       "    </tr>\n",
       "    <tr>\n",
       "      <th>max</th>\n",
       "      <td>12.220000</td>\n",
       "      <td>744.890000</td>\n",
       "      <td>0.460000</td>\n",
       "      <td>1.426756</td>\n",
       "      <td>NaN</td>\n",
       "    </tr>\n",
       "  </tbody>\n",
       "</table>\n",
       "</div>"
      ],
      "text/plain": [
       "             DER  Operating Profit Margin  Return On Asset  Sales Growth  \\\n",
       "count  38.000000                38.000000        38.000000     38.000000   \n",
       "mean    0.090254                77.623896         0.027221      0.308828   \n",
       "std     6.235241               209.671168         0.248929      0.482354   \n",
       "min   -26.250000              -230.610000        -1.190000     -0.371777   \n",
       "25%     0.312500                -1.883337        -0.020000      0.000000   \n",
       "50%     0.650000                 3.588500         0.010000      0.170151   \n",
       "75%     1.465000                41.302500         0.095000      0.660500   \n",
       "max    12.220000               744.890000         0.460000      1.426756   \n",
       "\n",
       "       Category  \n",
       "count       0.0  \n",
       "mean        NaN  \n",
       "std         NaN  \n",
       "min         NaN  \n",
       "25%         NaN  \n",
       "50%         NaN  \n",
       "75%         NaN  \n",
       "max         NaN  "
      ]
     },
     "execution_count": 7,
     "metadata": {},
     "output_type": "execute_result"
    }
   ],
   "source": [
    "df0 = pd.read_csv('../input/pertambangan/pertambangan.csv')\n",
    "df1 = df0[['DER','Operating Profit Margin' ,'Return On Asset','Sales Growth','Category']]\n",
    "df1.describe()"
   ]
  },
  {
   "cell_type": "code",
   "execution_count": 8,
   "id": "02680f31",
   "metadata": {
    "execution": {
     "iopub.execute_input": "2022-04-19T17:43:19.880947Z",
     "iopub.status.busy": "2022-04-19T17:43:19.880585Z",
     "iopub.status.idle": "2022-04-19T17:43:20.389498Z",
     "shell.execute_reply": "2022-04-19T17:43:20.388349Z"
    },
    "papermill": {
     "duration": 0.570279,
     "end_time": "2022-04-19T17:43:20.392401",
     "exception": false,
     "start_time": "2022-04-19T17:43:19.822122",
     "status": "completed"
    },
    "tags": []
   },
   "outputs": [
    {
     "data": {
      "text/plain": [
       "<AxesSubplot:xlabel='Emitten', ylabel='Operating Profit Margin'>"
      ]
     },
     "execution_count": 8,
     "metadata": {},
     "output_type": "execute_result"
    },
    {
     "data": {
      "image/png": "[encoded data removed]",
      "text/plain": [
       "<Figure size 1296x288 with 1 Axes>"
      ]
     },
     "metadata": {
      "needs_background": "light"
     },
     "output_type": "display_data"
    }
   ],
   "source": [
    "plt.figure(figsize=(18, 4))\n",
    "plt.xticks(rotation=45)\n",
    "sns.scatterplot(x='Emitten', y='Operating Profit Margin', \n",
    "                data=df0, s=80)"
   ]
  },
  {
   "cell_type": "code",
   "execution_count": 9,
   "id": "45e9a294",
   "metadata": {
    "execution": {
     "iopub.execute_input": "2022-04-19T17:43:20.512898Z",
     "iopub.status.busy": "2022-04-19T17:43:20.512565Z",
     "iopub.status.idle": "2022-04-19T17:43:20.877715Z",
     "shell.execute_reply": "2022-04-19T17:43:20.876713Z"
    },
    "papermill": {
     "duration": 0.425296,
     "end_time": "2022-04-19T17:43:20.880185",
     "exception": false,
     "start_time": "2022-04-19T17:43:20.454889",
     "status": "completed"
    },
    "tags": []
   },
   "outputs": [
    {
     "data": {
      "text/plain": [
       "<AxesSubplot:xlabel='Emitten', ylabel='DER'>"
      ]
     },
     "execution_count": 9,
     "metadata": {},
     "output_type": "execute_result"
    },
    {
     "data": {
      "image/png": "[encoded data removed]",
      "text/plain": [
       "<Figure size 1296x288 with 1 Axes>"
      ]
     },
     "metadata": {
      "needs_background": "light"
     },
     "output_type": "display_data"
    }
   ],
   "source": [
    "plt.figure(figsize=(18, 4))\n",
    "plt.xticks(rotation=45)\n",
    "sns.scatterplot(x='Emitten', y='DER', \n",
    "                data=df0, s=80)"
   ]
  },
  {
   "cell_type": "code",
   "execution_count": 10,
   "id": "677ae4dd",
   "metadata": {
    "execution": {
     "iopub.execute_input": "2022-04-19T17:43:20.996128Z",
     "iopub.status.busy": "2022-04-19T17:43:20.995664Z",
     "iopub.status.idle": "2022-04-19T17:43:21.354073Z",
     "shell.execute_reply": "2022-04-19T17:43:21.353239Z"
    },
    "papermill": {
     "duration": 0.420146,
     "end_time": "2022-04-19T17:43:21.356609",
     "exception": false,
     "start_time": "2022-04-19T17:43:20.936463",
     "status": "completed"
    },
    "tags": []
   },
   "outputs": [
    {
     "data": {
      "text/plain": [
       "<AxesSubplot:xlabel='Emitten', ylabel='Sales Growth'>"
      ]
     },
     "execution_count": 10,
     "metadata": {},
     "output_type": "execute_result"
    },
    {
     "data": {
      "image/png": "[encoded data removed]",
      "text/plain": [
       "<Figure size 1296x288 with 1 Axes>"
      ]
     },
     "metadata": {
      "needs_background": "light"
     },
     "output_type": "display_data"
    }
   ],
   "source": [
    "plt.figure(figsize=(18, 4))\n",
    "plt.xticks(rotation=45)\n",
    "sns.scatterplot(x='Emitten', y='Sales Growth', \n",
    "                data=df0, s=80)"
   ]
  },
  {
   "cell_type": "markdown",
   "id": "76cf3cfe",
   "metadata": {
    "papermill": {
     "duration": 0.057415,
     "end_time": "2022-04-19T17:43:21.474584",
     "exception": false,
     "start_time": "2022-04-19T17:43:21.417169",
     "status": "completed"
    },
    "tags": []
   },
   "source": [
    "# **2.2 Outlier**"
   ]
  },
  {
   "cell_type": "code",
   "execution_count": 11,
   "id": "c3887bf9",
   "metadata": {
    "execution": {
     "iopub.execute_input": "2022-04-19T17:43:21.595993Z",
     "iopub.status.busy": "2022-04-19T17:43:21.595686Z",
     "iopub.status.idle": "2022-04-19T17:43:21.605393Z",
     "shell.execute_reply": "2022-04-19T17:43:21.604303Z"
    },
    "papermill": {
     "duration": 0.073418,
     "end_time": "2022-04-19T17:43:21.607794",
     "exception": false,
     "start_time": "2022-04-19T17:43:21.534376",
     "status": "completed"
    },
    "tags": []
   },
   "outputs": [
    {
     "name": "stdout",
     "output_type": "stream",
     "text": [
      "Jumlah baris sebelum memfilter outlier: 38\n",
      "Jumlah baris setelah memfilter outlier: 36\n"
     ]
    }
   ],
   "source": [
    "print(f'Jumlah baris sebelum memfilter outlier: {len(df1)}')\n",
    "\n",
    "filtered_entries = np.array([False] * len(df1))\n",
    "for col in ['Operating Profit Margin']:\n",
    "    zscore = abs(stats.zscore(df1[col]))\n",
    "    filtered_entries = (zscore < 3) | filtered_entries\n",
    "    \n",
    "df1 = df1[filtered_entries]\n",
    "\n",
    "print(f'Jumlah baris setelah memfilter outlier: {len(df1)}')"
   ]
  },
  {
   "cell_type": "code",
   "execution_count": 12,
   "id": "8e12cabf",
   "metadata": {
    "execution": {
     "iopub.execute_input": "2022-04-19T17:43:21.734366Z",
     "iopub.status.busy": "2022-04-19T17:43:21.734077Z",
     "iopub.status.idle": "2022-04-19T17:43:21.761579Z",
     "shell.execute_reply": "2022-04-19T17:43:21.760875Z"
    },
    "papermill": {
     "duration": 0.094929,
     "end_time": "2022-04-19T17:43:21.763808",
     "exception": false,
     "start_time": "2022-04-19T17:43:21.668879",
     "status": "completed"
    },
    "tags": []
   },
   "outputs": [
    {
     "data": {
      "text/html": [
       "<div>\n",
       "<style scoped>\n",
       "    .dataframe tbody tr th:only-of-type {\n",
       "        vertical-align: middle;\n",
       "    }\n",
       "\n",
       "    .dataframe tbody tr th {\n",
       "        vertical-align: top;\n",
       "    }\n",
       "\n",
       "    .dataframe thead th {\n",
       "        text-align: right;\n",
       "    }\n",
       "</style>\n",
       "<table border=\"1\" class=\"dataframe\">\n",
       "  <thead>\n",
       "    <tr style=\"text-align: right;\">\n",
       "      <th></th>\n",
       "      <th>DER</th>\n",
       "      <th>Operating Profit Margin</th>\n",
       "      <th>Return On Asset</th>\n",
       "      <th>Sales Growth</th>\n",
       "      <th>Category</th>\n",
       "    </tr>\n",
       "  </thead>\n",
       "  <tbody>\n",
       "    <tr>\n",
       "      <th>count</th>\n",
       "      <td>36.000000</td>\n",
       "      <td>36.000000</td>\n",
       "      <td>36.000000</td>\n",
       "      <td>36.000000</td>\n",
       "      <td>0.0</td>\n",
       "    </tr>\n",
       "    <tr>\n",
       "      <th>mean</th>\n",
       "      <td>0.072213</td>\n",
       "      <td>41.808557</td>\n",
       "      <td>0.017900</td>\n",
       "      <td>0.279595</td>\n",
       "      <td>NaN</td>\n",
       "    </tr>\n",
       "    <tr>\n",
       "      <th>std</th>\n",
       "      <td>6.410371</td>\n",
       "      <td>146.207308</td>\n",
       "      <td>0.251581</td>\n",
       "      <td>0.473585</td>\n",
       "      <td>NaN</td>\n",
       "    </tr>\n",
       "    <tr>\n",
       "      <th>min</th>\n",
       "      <td>-26.250000</td>\n",
       "      <td>-230.610000</td>\n",
       "      <td>-1.190000</td>\n",
       "      <td>-0.371777</td>\n",
       "      <td>NaN</td>\n",
       "    </tr>\n",
       "    <tr>\n",
       "      <th>25%</th>\n",
       "      <td>0.317500</td>\n",
       "      <td>-4.290000</td>\n",
       "      <td>-0.020000</td>\n",
       "      <td>0.000000</td>\n",
       "      <td>NaN</td>\n",
       "    </tr>\n",
       "    <tr>\n",
       "      <th>50%</th>\n",
       "      <td>0.695000</td>\n",
       "      <td>3.076000</td>\n",
       "      <td>0.010000</td>\n",
       "      <td>0.129090</td>\n",
       "      <td>NaN</td>\n",
       "    </tr>\n",
       "    <tr>\n",
       "      <th>75%</th>\n",
       "      <td>1.485000</td>\n",
       "      <td>27.870000</td>\n",
       "      <td>0.065000</td>\n",
       "      <td>0.603590</td>\n",
       "      <td>NaN</td>\n",
       "    </tr>\n",
       "    <tr>\n",
       "      <th>max</th>\n",
       "      <td>12.220000</td>\n",
       "      <td>643.740000</td>\n",
       "      <td>0.460000</td>\n",
       "      <td>1.426756</td>\n",
       "      <td>NaN</td>\n",
       "    </tr>\n",
       "  </tbody>\n",
       "</table>\n",
       "</div>"
      ],
      "text/plain": [
       "             DER  Operating Profit Margin  Return On Asset  Sales Growth  \\\n",
       "count  36.000000                36.000000        36.000000     36.000000   \n",
       "mean    0.072213                41.808557         0.017900      0.279595   \n",
       "std     6.410371               146.207308         0.251581      0.473585   \n",
       "min   -26.250000              -230.610000        -1.190000     -0.371777   \n",
       "25%     0.317500                -4.290000        -0.020000      0.000000   \n",
       "50%     0.695000                 3.076000         0.010000      0.129090   \n",
       "75%     1.485000                27.870000         0.065000      0.603590   \n",
       "max    12.220000               643.740000         0.460000      1.426756   \n",
       "\n",
       "       Category  \n",
       "count       0.0  \n",
       "mean        NaN  \n",
       "std         NaN  \n",
       "min         NaN  \n",
       "25%         NaN  \n",
       "50%         NaN  \n",
       "75%         NaN  \n",
       "max         NaN  "
      ]
     },
     "execution_count": 12,
     "metadata": {},
     "output_type": "execute_result"
    }
   ],
   "source": [
    "df1.describe()"
   ]
  },
  {
   "cell_type": "markdown",
   "id": "00cf59a7",
   "metadata": {
    "papermill": {
     "duration": 0.057962,
     "end_time": "2022-04-19T17:43:21.881042",
     "exception": false,
     "start_time": "2022-04-19T17:43:21.823080",
     "status": "completed"
    },
    "tags": []
   },
   "source": [
    "# **2.3 Standardisasi Fitur**"
   ]
  },
  {
   "cell_type": "code",
   "execution_count": 13,
   "id": "95b61f45",
   "metadata": {
    "execution": {
     "iopub.execute_input": "2022-04-19T17:43:22.001377Z",
     "iopub.status.busy": "2022-04-19T17:43:22.000789Z",
     "iopub.status.idle": "2022-04-19T17:43:22.176841Z",
     "shell.execute_reply": "2022-04-19T17:43:22.176157Z"
    },
    "papermill": {
     "duration": 0.238069,
     "end_time": "2022-04-19T17:43:22.178936",
     "exception": false,
     "start_time": "2022-04-19T17:43:21.940867",
     "status": "completed"
    },
    "tags": []
   },
   "outputs": [
    {
     "data": {
      "text/html": [
       "<div>\n",
       "<style scoped>\n",
       "    .dataframe tbody tr th:only-of-type {\n",
       "        vertical-align: middle;\n",
       "    }\n",
       "\n",
       "    .dataframe tbody tr th {\n",
       "        vertical-align: top;\n",
       "    }\n",
       "\n",
       "    .dataframe thead th {\n",
       "        text-align: right;\n",
       "    }\n",
       "</style>\n",
       "<table border=\"1\" class=\"dataframe\">\n",
       "  <thead>\n",
       "    <tr style=\"text-align: right;\">\n",
       "      <th></th>\n",
       "      <th>DER</th>\n",
       "      <th>Operating Profit Margin</th>\n",
       "      <th>Sales Growth</th>\n",
       "    </tr>\n",
       "  </thead>\n",
       "  <tbody>\n",
       "    <tr>\n",
       "      <th>count</th>\n",
       "      <td>3.600000e+01</td>\n",
       "      <td>3.600000e+01</td>\n",
       "      <td>3.600000e+01</td>\n",
       "    </tr>\n",
       "    <tr>\n",
       "      <th>mean</th>\n",
       "      <td>-3.772421e-17</td>\n",
       "      <td>-1.387779e-17</td>\n",
       "      <td>9.868649e-17</td>\n",
       "    </tr>\n",
       "    <tr>\n",
       "      <th>std</th>\n",
       "      <td>1.014185e+00</td>\n",
       "      <td>1.014185e+00</td>\n",
       "      <td>1.014185e+00</td>\n",
       "    </tr>\n",
       "    <tr>\n",
       "      <th>min</th>\n",
       "      <td>-4.164439e+00</td>\n",
       "      <td>-1.889665e+00</td>\n",
       "      <td>-1.394917e+00</td>\n",
       "    </tr>\n",
       "    <tr>\n",
       "      <th>25%</th>\n",
       "      <td>3.880688e-02</td>\n",
       "      <td>-3.197684e-01</td>\n",
       "      <td>-5.987550e-01</td>\n",
       "    </tr>\n",
       "    <tr>\n",
       "      <th>50%</th>\n",
       "      <td>9.853117e-02</td>\n",
       "      <td>-2.686732e-01</td>\n",
       "      <td>-3.223086e-01</td>\n",
       "    </tr>\n",
       "    <tr>\n",
       "      <th>75%</th>\n",
       "      <td>2.235171e-01</td>\n",
       "      <td>-9.668653e-02</td>\n",
       "      <td>6.938378e-01</td>\n",
       "    </tr>\n",
       "    <tr>\n",
       "      <th>max</th>\n",
       "      <td>1.921902e+00</td>\n",
       "      <td>4.175372e+00</td>\n",
       "      <td>2.456651e+00</td>\n",
       "    </tr>\n",
       "  </tbody>\n",
       "</table>\n",
       "</div>"
      ],
      "text/plain": [
       "                DER  Operating Profit Margin  Sales Growth\n",
       "count  3.600000e+01             3.600000e+01  3.600000e+01\n",
       "mean  -3.772421e-17            -1.387779e-17  9.868649e-17\n",
       "std    1.014185e+00             1.014185e+00  1.014185e+00\n",
       "min   -4.164439e+00            -1.889665e+00 -1.394917e+00\n",
       "25%    3.880688e-02            -3.197684e-01 -5.987550e-01\n",
       "50%    9.853117e-02            -2.686732e-01 -3.223086e-01\n",
       "75%    2.235171e-01            -9.668653e-02  6.938378e-01\n",
       "max    1.921902e+00             4.175372e+00  2.456651e+00"
      ]
     },
     "execution_count": 13,
     "metadata": {},
     "output_type": "execute_result"
    }
   ],
   "source": [
    "feats = ['DER','Operating Profit Margin','Sales Growth']\n",
    "X = df1[feats].values\n",
    "y = df1['Category'].values\n",
    "\n",
    "from sklearn.preprocessing import StandardScaler\n",
    "X_std = StandardScaler().fit_transform(X)\n",
    "new_df = pd.DataFrame(data = X_std, columns = feats)\n",
    "new_df.describe()"
   ]
  },
  {
   "cell_type": "markdown",
   "id": "5807f71b",
   "metadata": {
    "papermill": {
     "duration": 0.060063,
     "end_time": "2022-04-19T17:43:22.299493",
     "exception": false,
     "start_time": "2022-04-19T17:43:22.239430",
     "status": "completed"
    },
    "tags": []
   },
   "source": [
    "# **2.4 Lakukan K-means**"
   ]
  },
  {
   "cell_type": "code",
   "execution_count": 14,
   "id": "db4c9645",
   "metadata": {
    "execution": {
     "iopub.execute_input": "2022-04-19T17:43:22.427682Z",
     "iopub.status.busy": "2022-04-19T17:43:22.427099Z",
     "iopub.status.idle": "2022-04-19T17:43:22.735034Z",
     "shell.execute_reply": "2022-04-19T17:43:22.733948Z"
    },
    "papermill": {
     "duration": 0.373125,
     "end_time": "2022-04-19T17:43:22.737624",
     "exception": false,
     "start_time": "2022-04-19T17:43:22.364499",
     "status": "completed"
    },
    "tags": []
   },
   "outputs": [],
   "source": [
    "from sklearn.cluster import KMeans\n",
    "wcss=[]"
   ]
  },
  {
   "cell_type": "code",
   "execution_count": 15,
   "id": "bb4486aa",
   "metadata": {
    "execution": {
     "iopub.execute_input": "2022-04-19T17:43:22.864730Z",
     "iopub.status.busy": "2022-04-19T17:43:22.864430Z",
     "iopub.status.idle": "2022-04-19T17:43:22.871739Z",
     "shell.execute_reply": "2022-04-19T17:43:22.870861Z"
    },
    "papermill": {
     "duration": 0.075633,
     "end_time": "2022-04-19T17:43:22.874232",
     "exception": false,
     "start_time": "2022-04-19T17:43:22.798599",
     "status": "completed"
    },
    "tags": []
   },
   "outputs": [
    {
     "data": {
      "text/plain": [
       "(38, 6)"
      ]
     },
     "execution_count": 15,
     "metadata": {},
     "output_type": "execute_result"
    }
   ],
   "source": [
    "df0.shape"
   ]
  },
  {
   "cell_type": "code",
   "execution_count": 16,
   "id": "f0220346",
   "metadata": {
    "execution": {
     "iopub.execute_input": "2022-04-19T17:43:23.001068Z",
     "iopub.status.busy": "2022-04-19T17:43:23.000804Z",
     "iopub.status.idle": "2022-04-19T17:43:23.592588Z",
     "shell.execute_reply": "2022-04-19T17:43:23.591599Z"
    },
    "papermill": {
     "duration": 0.657532,
     "end_time": "2022-04-19T17:43:23.595201",
     "exception": false,
     "start_time": "2022-04-19T17:43:22.937669",
     "status": "completed"
    },
    "tags": []
   },
   "outputs": [
    {
     "data": {
      "text/plain": [
       "[<matplotlib.lines.Line2D at 0x7f11acbac610>]"
      ]
     },
     "execution_count": 16,
     "metadata": {},
     "output_type": "execute_result"
    },
    {
     "data": {
      "image/png": "[encoded data removed]",
      "text/plain": [
       "<Figure size 864x432 with 1 Axes>"
      ]
     },
     "metadata": {
      "needs_background": "light"
     },
     "output_type": "display_data"
    }
   ],
   "source": [
    "from sklearn.cluster import KMeans\n",
    "inertia = []\n",
    "\n",
    "for i in range(1, 11):\n",
    "  kmeans = KMeans(n_clusters=i, init='k-means++', max_iter=300, n_init=10, random_state=0)\n",
    "  kmeans.fit(new_df.values)\n",
    "  inertia.append(kmeans.inertia_)\n",
    "\n",
    "plt.figure(figsize=(12, 6))\n",
    "plt.plot(inertia) #Elbow Method"
   ]
  },
  {
   "cell_type": "markdown",
   "id": "afce5daa",
   "metadata": {
    "papermill": {
     "duration": 0.064409,
     "end_time": "2022-04-19T17:43:23.722164",
     "exception": false,
     "start_time": "2022-04-19T17:43:23.657755",
     "status": "completed"
    },
    "tags": []
   },
   "source": [
    "Ternyata clustering paling optimal di 3 cluster (n_cluster = 3)"
   ]
  },
  {
   "cell_type": "markdown",
   "id": "3d5a7854",
   "metadata": {
    "papermill": {
     "duration": 0.061372,
     "end_time": "2022-04-19T17:43:23.847963",
     "exception": false,
     "start_time": "2022-04-19T17:43:23.786591",
     "status": "completed"
    },
    "tags": []
   },
   "source": [
    "# **2.5 Pilih Jumlah Cluster**"
   ]
  },
  {
   "cell_type": "code",
   "execution_count": 17,
   "id": "aea06501",
   "metadata": {
    "execution": {
     "iopub.execute_input": "2022-04-19T17:43:23.972145Z",
     "iopub.status.busy": "2022-04-19T17:43:23.971825Z",
     "iopub.status.idle": "2022-04-19T17:43:24.003300Z",
     "shell.execute_reply": "2022-04-19T17:43:24.002536Z"
    },
    "papermill": {
     "duration": 0.096387,
     "end_time": "2022-04-19T17:43:24.005942",
     "exception": false,
     "start_time": "2022-04-19T17:43:23.909555",
     "status": "completed"
    },
    "tags": []
   },
   "outputs": [
    {
     "data": {
      "text/plain": [
       "KMeans(n_clusters=3, random_state=0)"
      ]
     },
     "execution_count": 17,
     "metadata": {},
     "output_type": "execute_result"
    }
   ],
   "source": [
    "from sklearn.cluster import KMeans\n",
    "kmeans = KMeans(n_clusters=3, init='k-means++', max_iter=300, n_init=10, random_state=0)\n",
    "kmeans.fit(new_df.values)"
   ]
  },
  {
   "cell_type": "code",
   "execution_count": 18,
   "id": "d90568da",
   "metadata": {
    "execution": {
     "iopub.execute_input": "2022-04-19T17:43:24.134304Z",
     "iopub.status.busy": "2022-04-19T17:43:24.133871Z",
     "iopub.status.idle": "2022-04-19T17:43:24.139280Z",
     "shell.execute_reply": "2022-04-19T17:43:24.138533Z"
    },
    "papermill": {
     "duration": 0.071918,
     "end_time": "2022-04-19T17:43:24.141367",
     "exception": false,
     "start_time": "2022-04-19T17:43:24.069449",
     "status": "completed"
    },
    "tags": []
   },
   "outputs": [],
   "source": [
    "new_df['target'] = y\n",
    "new_df['fit'] = kmeans.labels_"
   ]
  },
  {
   "cell_type": "markdown",
   "id": "f3f90017",
   "metadata": {
    "papermill": {
     "duration": 0.061415,
     "end_time": "2022-04-19T17:43:24.264024",
     "exception": false,
     "start_time": "2022-04-19T17:43:24.202609",
     "status": "completed"
    },
    "tags": []
   },
   "source": [
    "# **2.6 Plot Cluster**"
   ]
  },
  {
   "cell_type": "code",
   "execution_count": 19,
   "id": "35aaecf3",
   "metadata": {
    "execution": {
     "iopub.execute_input": "2022-04-19T17:43:24.393165Z",
     "iopub.status.busy": "2022-04-19T17:43:24.392597Z",
     "iopub.status.idle": "2022-04-19T17:43:24.632448Z",
     "shell.execute_reply": "2022-04-19T17:43:24.631452Z"
    },
    "papermill": {
     "duration": 0.30761,
     "end_time": "2022-04-19T17:43:24.634590",
     "exception": false,
     "start_time": "2022-04-19T17:43:24.326980",
     "status": "completed"
    },
    "tags": []
   },
   "outputs": [
    {
     "data": {
      "image/png": "[encoded data removed]",
      "text/plain": [
       "<Figure size 576x576 with 1 Axes>"
      ]
     },
     "metadata": {
      "needs_background": "light"
     },
     "output_type": "display_data"
    }
   ],
   "source": [
    "plt.rcParams[\"figure.figsize\"] = (8, 8)\n",
    "sns.scatterplot(x='DER', y='Operating Profit Margin', hue=new_df.target.to_list(), data=new_df);"
   ]
  },
  {
   "cell_type": "code",
   "execution_count": 20,
   "id": "c9335fff",
   "metadata": {
    "execution": {
     "iopub.execute_input": "2022-04-19T17:43:24.784507Z",
     "iopub.status.busy": "2022-04-19T17:43:24.784211Z",
     "iopub.status.idle": "2022-04-19T17:43:24.801678Z",
     "shell.execute_reply": "2022-04-19T17:43:24.800721Z"
    },
    "papermill": {
     "duration": 0.103025,
     "end_time": "2022-04-19T17:43:24.805504",
     "exception": false,
     "start_time": "2022-04-19T17:43:24.702479",
     "status": "completed"
    },
    "tags": []
   },
   "outputs": [
    {
     "data": {
      "text/html": [
       "<div>\n",
       "<style scoped>\n",
       "    .dataframe tbody tr th:only-of-type {\n",
       "        vertical-align: middle;\n",
       "    }\n",
       "\n",
       "    .dataframe tbody tr th {\n",
       "        vertical-align: top;\n",
       "    }\n",
       "\n",
       "    .dataframe thead th {\n",
       "        text-align: right;\n",
       "    }\n",
       "</style>\n",
       "<table border=\"1\" class=\"dataframe\">\n",
       "  <thead>\n",
       "    <tr style=\"text-align: right;\">\n",
       "      <th></th>\n",
       "      <th>DER</th>\n",
       "      <th>Operating Profit Margin</th>\n",
       "      <th>Sales Growth</th>\n",
       "      <th>target</th>\n",
       "      <th>fit</th>\n",
       "    </tr>\n",
       "  </thead>\n",
       "  <tbody>\n",
       "    <tr>\n",
       "      <th>0</th>\n",
       "      <td>0.091412</td>\n",
       "      <td>-0.243792</td>\n",
       "      <td>0.632902</td>\n",
       "      <td>NaN</td>\n",
       "      <td>0</td>\n",
       "    </tr>\n",
       "    <tr>\n",
       "      <th>1</th>\n",
       "      <td>0.255950</td>\n",
       "      <td>0.005143</td>\n",
       "      <td>-0.192570</td>\n",
       "      <td>NaN</td>\n",
       "      <td>2</td>\n",
       "    </tr>\n",
       "    <tr>\n",
       "      <th>2</th>\n",
       "      <td>1.402973</td>\n",
       "      <td>-0.185406</td>\n",
       "      <td>-1.302656</td>\n",
       "      <td>NaN</td>\n",
       "      <td>2</td>\n",
       "    </tr>\n",
       "    <tr>\n",
       "      <th>3</th>\n",
       "      <td>-0.870505</td>\n",
       "      <td>-0.498595</td>\n",
       "      <td>-0.598755</td>\n",
       "      <td>NaN</td>\n",
       "      <td>2</td>\n",
       "    </tr>\n",
       "    <tr>\n",
       "      <th>4</th>\n",
       "      <td>0.213233</td>\n",
       "      <td>1.554438</td>\n",
       "      <td>-0.368436</td>\n",
       "      <td>NaN</td>\n",
       "      <td>2</td>\n",
       "    </tr>\n",
       "  </tbody>\n",
       "</table>\n",
       "</div>"
      ],
      "text/plain": [
       "        DER  Operating Profit Margin  Sales Growth  target  fit\n",
       "0  0.091412                -0.243792      0.632902     NaN    0\n",
       "1  0.255950                 0.005143     -0.192570     NaN    2\n",
       "2  1.402973                -0.185406     -1.302656     NaN    2\n",
       "3 -0.870505                -0.498595     -0.598755     NaN    2\n",
       "4  0.213233                 1.554438     -0.368436     NaN    2"
      ]
     },
     "execution_count": 20,
     "metadata": {},
     "output_type": "execute_result"
    }
   ],
   "source": [
    "new_df.head(5)"
   ]
  },
  {
   "cell_type": "code",
   "execution_count": 21,
   "id": "1defa71b",
   "metadata": {
    "execution": {
     "iopub.execute_input": "2022-04-19T17:43:24.941765Z",
     "iopub.status.busy": "2022-04-19T17:43:24.941272Z",
     "iopub.status.idle": "2022-04-19T17:43:24.963424Z",
     "shell.execute_reply": "2022-04-19T17:43:24.962315Z"
    },
    "papermill": {
     "duration": 0.095718,
     "end_time": "2022-04-19T17:43:24.965869",
     "exception": false,
     "start_time": "2022-04-19T17:43:24.870151",
     "status": "completed"
    },
    "tags": []
   },
   "outputs": [
    {
     "data": {
      "text/html": [
       "<div>\n",
       "<style scoped>\n",
       "    .dataframe tbody tr th:only-of-type {\n",
       "        vertical-align: middle;\n",
       "    }\n",
       "\n",
       "    .dataframe tbody tr th {\n",
       "        vertical-align: top;\n",
       "    }\n",
       "\n",
       "    .dataframe thead th {\n",
       "        text-align: right;\n",
       "    }\n",
       "</style>\n",
       "<table border=\"1\" class=\"dataframe\">\n",
       "  <thead>\n",
       "    <tr style=\"text-align: right;\">\n",
       "      <th></th>\n",
       "      <th>Category</th>\n",
       "      <th>DER</th>\n",
       "      <th>Operating Profit Margin</th>\n",
       "      <th>Sales Growth</th>\n",
       "      <th>target</th>\n",
       "      <th>fit</th>\n",
       "    </tr>\n",
       "  </thead>\n",
       "  <tbody>\n",
       "    <tr>\n",
       "      <th>0</th>\n",
       "      <td>2</td>\n",
       "      <td>0.091412</td>\n",
       "      <td>-0.243792</td>\n",
       "      <td>0.632902</td>\n",
       "      <td>NaN</td>\n",
       "      <td>0</td>\n",
       "    </tr>\n",
       "    <tr>\n",
       "      <th>1</th>\n",
       "      <td>1</td>\n",
       "      <td>0.255950</td>\n",
       "      <td>0.005143</td>\n",
       "      <td>-0.192570</td>\n",
       "      <td>NaN</td>\n",
       "      <td>2</td>\n",
       "    </tr>\n",
       "    <tr>\n",
       "      <th>2</th>\n",
       "      <td>1</td>\n",
       "      <td>1.402973</td>\n",
       "      <td>-0.185406</td>\n",
       "      <td>-1.302656</td>\n",
       "      <td>NaN</td>\n",
       "      <td>2</td>\n",
       "    </tr>\n",
       "    <tr>\n",
       "      <th>3</th>\n",
       "      <td>1</td>\n",
       "      <td>-0.870505</td>\n",
       "      <td>-0.498595</td>\n",
       "      <td>-0.598755</td>\n",
       "      <td>NaN</td>\n",
       "      <td>2</td>\n",
       "    </tr>\n",
       "    <tr>\n",
       "      <th>4</th>\n",
       "      <td>1</td>\n",
       "      <td>0.213233</td>\n",
       "      <td>1.554438</td>\n",
       "      <td>-0.368436</td>\n",
       "      <td>NaN</td>\n",
       "      <td>2</td>\n",
       "    </tr>\n",
       "    <tr>\n",
       "      <th>5</th>\n",
       "      <td>4</td>\n",
       "      <td>-4.164439</td>\n",
       "      <td>-1.046102</td>\n",
       "      <td>-1.394917</td>\n",
       "      <td>NaN</td>\n",
       "      <td>1</td>\n",
       "    </tr>\n",
       "  </tbody>\n",
       "</table>\n",
       "</div>"
      ],
      "text/plain": [
       "   Category       DER  Operating Profit Margin  Sales Growth  target  fit\n",
       "0         2  0.091412                -0.243792      0.632902     NaN    0\n",
       "1         1  0.255950                 0.005143     -0.192570     NaN    2\n",
       "2         1  1.402973                -0.185406     -1.302656     NaN    2\n",
       "3         1 -0.870505                -0.498595     -0.598755     NaN    2\n",
       "4         1  0.213233                 1.554438     -0.368436     NaN    2\n",
       "5         4 -4.164439                -1.046102     -1.394917     NaN    1"
      ]
     },
     "execution_count": 21,
     "metadata": {},
     "output_type": "execute_result"
    }
   ],
   "source": [
    "new_df.insert(0,\"Category\",np.nan,True)\n",
    "new_df.loc[new_df['fit'] == 0, 'Category'] = 2\n",
    "new_df.loc[new_df['fit'] == 1, 'Category'] = 4\n",
    "new_df.loc[new_df['fit'] == 2, 'Category'] = 1\n",
    "new_df.loc[new_df['fit'] == 3, 'Category'] = 0\n",
    "new_df.loc[new_df['fit'] == 4, 'Category'] = 3\n",
    "new_df['Category'] = new_df['Category'].astype(int)\n",
    "new_df.head(6)"
   ]
  },
  {
   "cell_type": "code",
   "execution_count": 22,
   "id": "bca7f7a5",
   "metadata": {
    "execution": {
     "iopub.execute_input": "2022-04-19T17:43:25.098603Z",
     "iopub.status.busy": "2022-04-19T17:43:25.097968Z",
     "iopub.status.idle": "2022-04-19T17:43:25.111651Z",
     "shell.execute_reply": "2022-04-19T17:43:25.110897Z"
    },
    "papermill": {
     "duration": 0.0822,
     "end_time": "2022-04-19T17:43:25.115044",
     "exception": false,
     "start_time": "2022-04-19T17:43:25.032844",
     "status": "completed"
    },
    "tags": []
   },
   "outputs": [
    {
     "name": "stdout",
     "output_type": "stream",
     "text": [
      "<class 'pandas.core.frame.DataFrame'>\n",
      "RangeIndex: 36 entries, 0 to 35\n",
      "Data columns (total 4 columns):\n",
      " #   Column                         Non-Null Count  Dtype  \n",
      "---  ------                         --------------  -----  \n",
      " 0   Category                       36 non-null     int64  \n",
      " 1   DER (St.)                      36 non-null     float64\n",
      " 2   Operating Profit Margin (St.)  36 non-null     float64\n",
      " 3   Sales Growth (St.)             36 non-null     float64\n",
      "dtypes: float64(3), int64(1)\n",
      "memory usage: 1.2 KB\n"
     ]
    }
   ],
   "source": [
    "new_df.drop([\"fit\",\"target\"], axis=1, inplace=True)\n",
    "new_df.columns = ['Category','DER (St.)','Operating Profit Margin (St.)', 'Sales Growth (St.)']\n",
    "new_df.info()"
   ]
  },
  {
   "cell_type": "markdown",
   "id": "52707fdc",
   "metadata": {
    "papermill": {
     "duration": 0.068094,
     "end_time": "2022-04-19T17:43:25.250860",
     "exception": false,
     "start_time": "2022-04-19T17:43:25.182766",
     "status": "completed"
    },
    "tags": []
   },
   "source": [
    "# **2.6.1 3D Scatter Plot**"
   ]
  },
  {
   "cell_type": "code",
   "execution_count": 23,
   "id": "5912e800",
   "metadata": {
    "execution": {
     "iopub.execute_input": "2022-04-19T17:43:25.386550Z",
     "iopub.status.busy": "2022-04-19T17:43:25.385732Z",
     "iopub.status.idle": "2022-04-19T17:43:25.941628Z",
     "shell.execute_reply": "2022-04-19T17:43:25.940513Z"
    },
    "papermill": {
     "duration": 0.626345,
     "end_time": "2022-04-19T17:43:25.944721",
     "exception": false,
     "start_time": "2022-04-19T17:43:25.318376",
     "status": "completed"
    },
    "tags": []
   },
   "outputs": [
    {
     "data": {
      "image/png": "[encoded data removed]",
      "text/plain": [
       "<Figure size 576x576 with 1 Axes>"
      ]
     },
     "metadata": {
      "needs_background": "light"
     },
     "output_type": "display_data"
    }
   ],
   "source": [
    "from mpl_toolkits.mplot3d import Axes3D\n",
    "\n",
    "fig = plt.figure()\n",
    "ax = fig.add_subplot(111, projection = '3d')\n",
    "\n",
    "\n",
    "x = new_df['DER (St.)']\n",
    "y = new_df['Operating Profit Margin (St.)']\n",
    "z = new_df['Sales Growth (St.)']\n",
    "\n",
    "ax.set_xlabel(\"DER (St.)\")\n",
    "ax.set_ylabel(\"Operating Profit Margin (St.)\")\n",
    "ax.set_zlabel(\"Sales Growth (St.)\")\n",
    "\n",
    "cmap = ListedColormap(sns.color_palette(\"RdYlGn\", 256).as_hex())\n",
    "\n",
    "sc = ax.scatter(x, y, z, s=40, c=new_df['Category'], marker='o', cmap=cmap, alpha=1)\n",
    "plt.legend(*sc.legend_elements(), bbox_to_anchor=(1.05, 1), loc=2)\n",
    "\n",
    "plt.show()"
   ]
  },
  {
   "cell_type": "markdown",
   "id": "3c739a6f",
   "metadata": {
    "papermill": {
     "duration": 0.065758,
     "end_time": "2022-04-19T17:43:26.077845",
     "exception": false,
     "start_time": "2022-04-19T17:43:26.012087",
     "status": "completed"
    },
    "tags": []
   },
   "source": [
    "# **2.6.2 X vs Z View**"
   ]
  },
  {
   "cell_type": "code",
   "execution_count": 24,
   "id": "ec516028",
   "metadata": {
    "execution": {
     "iopub.execute_input": "2022-04-19T17:43:26.213863Z",
     "iopub.status.busy": "2022-04-19T17:43:26.213556Z",
     "iopub.status.idle": "2022-04-19T17:43:26.529108Z",
     "shell.execute_reply": "2022-04-19T17:43:26.528235Z"
    },
    "papermill": {
     "duration": 0.387965,
     "end_time": "2022-04-19T17:43:26.532135",
     "exception": false,
     "start_time": "2022-04-19T17:43:26.144170",
     "status": "completed"
    },
    "tags": []
   },
   "outputs": [
    {
     "data": {
      "image/png": "[encoded data removed]",
      "text/plain": [
       "<Figure size 576x576 with 1 Axes>"
      ]
     },
     "metadata": {
      "needs_background": "light"
     },
     "output_type": "display_data"
    }
   ],
   "source": [
    "# color palette as dictionary\n",
    "palette = {0:\"tab:red\",\n",
    "           1:\"tab:orange\", \n",
    "           2:\"yellow\",\n",
    "           3:\"lime\",\n",
    "           4:\"darkgreen\"}\n",
    "\n",
    "sns.scatterplot(x='DER (St.)', y='Sales Growth (St.)', \n",
    "                hue='Category', data=new_df, s=80,\n",
    "                palette=palette)\n",
    "plt.title(\"DER vs Sales Growth (Standardisasi)\", fontsize=18, y=1.05)\n",
    "plt.show()\n"
   ]
  },
  {
   "cell_type": "markdown",
   "id": "0c3a9c22",
   "metadata": {
    "papermill": {
     "duration": 0.069008,
     "end_time": "2022-04-19T17:43:26.670677",
     "exception": false,
     "start_time": "2022-04-19T17:43:26.601669",
     "status": "completed"
    },
    "tags": []
   },
   "source": [
    "# **2.6.3 Y vs Z View**"
   ]
  },
  {
   "cell_type": "code",
   "execution_count": 25,
   "id": "860bc780",
   "metadata": {
    "execution": {
     "iopub.execute_input": "2022-04-19T17:43:26.810637Z",
     "iopub.status.busy": "2022-04-19T17:43:26.809803Z",
     "iopub.status.idle": "2022-04-19T17:43:27.123171Z",
     "shell.execute_reply": "2022-04-19T17:43:27.122155Z"
    },
    "papermill": {
     "duration": 0.386993,
     "end_time": "2022-04-19T17:43:27.125373",
     "exception": false,
     "start_time": "2022-04-19T17:43:26.738380",
     "status": "completed"
    },
    "tags": []
   },
   "outputs": [
    {
     "data": {
      "image/png": "[encoded data removed]",
      "text/plain": [
       "<Figure size 576x576 with 1 Axes>"
      ]
     },
     "metadata": {
      "needs_background": "light"
     },
     "output_type": "display_data"
    }
   ],
   "source": [
    "sns.scatterplot(x='Operating Profit Margin (St.)', y='Sales Growth (St.)', \n",
    "                hue='Category', data=new_df, s=80,\n",
    "                palette=palette)\n",
    "plt.title(\"Operating Profit Margin vs Sales Growth (Standardisasi)\", fontsize=18, y=1.05)\n",
    "plt.show()"
   ]
  },
  {
   "cell_type": "markdown",
   "id": "6fa29788",
   "metadata": {
    "papermill": {
     "duration": 0.069902,
     "end_time": "2022-04-19T17:43:27.266862",
     "exception": false,
     "start_time": "2022-04-19T17:43:27.196960",
     "status": "completed"
    },
    "tags": []
   },
   "source": [
    "# **2.6.4 X vs Y View**"
   ]
  },
  {
   "cell_type": "code",
   "execution_count": 26,
   "id": "97442f02",
   "metadata": {
    "execution": {
     "iopub.execute_input": "2022-04-19T17:43:27.406608Z",
     "iopub.status.busy": "2022-04-19T17:43:27.405828Z",
     "iopub.status.idle": "2022-04-19T17:43:27.698968Z",
     "shell.execute_reply": "2022-04-19T17:43:27.697958Z"
    },
    "papermill": {
     "duration": 0.366109,
     "end_time": "2022-04-19T17:43:27.701228",
     "exception": false,
     "start_time": "2022-04-19T17:43:27.335119",
     "status": "completed"
    },
    "tags": []
   },
   "outputs": [
    {
     "data": {
      "image/png": "[encoded data removed]",
      "text/plain": [
       "<Figure size 576x576 with 1 Axes>"
      ]
     },
     "metadata": {
      "needs_background": "light"
     },
     "output_type": "display_data"
    }
   ],
   "source": [
    "sns.scatterplot(x='DER (St.)', y='Operating Profit Margin (St.)', \n",
    "                hue='Category', data=new_df, s=80,\n",
    "                palette=palette)\n",
    "plt.title(\"DER vs Operating Profit Margin (Standardisasi)\", fontsize=18, y=1.05)\n",
    "plt.show()\n"
   ]
  },
  {
   "cell_type": "markdown",
   "id": "e2ddd5c1",
   "metadata": {
    "papermill": {
     "duration": 0.07726,
     "end_time": "2022-04-19T17:43:27.849494",
     "exception": false,
     "start_time": "2022-04-19T17:43:27.772234",
     "status": "completed"
    },
    "tags": []
   },
   "source": [
    "# **3. Export Result**"
   ]
  },
  {
   "cell_type": "markdown",
   "id": "b7fdbc9b",
   "metadata": {
    "papermill": {
     "duration": 0.069295,
     "end_time": "2022-04-19T17:43:27.989350",
     "exception": false,
     "start_time": "2022-04-19T17:43:27.920055",
     "status": "completed"
    },
    "tags": []
   },
   "source": [
    "Adjust **Initial Data** df0:\n"
   ]
  },
  {
   "cell_type": "markdown",
   "id": "fbecbae1",
   "metadata": {
    "papermill": {
     "duration": 0.070251,
     "end_time": "2022-04-19T17:43:28.129548",
     "exception": false,
     "start_time": "2022-04-19T17:43:28.059297",
     "status": "completed"
    },
    "tags": []
   },
   "source": [
    "Delete outlier YELO and other column other than Emiten, DER,Operating Profit Margin,Sales Growth"
   ]
  },
  {
   "cell_type": "code",
   "execution_count": 27,
   "id": "e13daf36",
   "metadata": {
    "execution": {
     "iopub.execute_input": "2022-04-19T17:43:28.273057Z",
     "iopub.status.busy": "2022-04-19T17:43:28.272356Z",
     "iopub.status.idle": "2022-04-19T17:43:28.280809Z",
     "shell.execute_reply": "2022-04-19T17:43:28.280044Z"
    },
    "papermill": {
     "duration": 0.083106,
     "end_time": "2022-04-19T17:43:28.283124",
     "exception": false,
     "start_time": "2022-04-19T17:43:28.200018",
     "status": "completed"
    },
    "tags": []
   },
   "outputs": [],
   "source": [
    "# drop these row indexes\n",
    "# from dataFrame\n",
    "index_names = df0[ df0['Emitten'] == 'ARTO' ].index\n",
    "df0.drop(index_names, inplace = True)\n",
    "df0.reset_index(drop=True, inplace=True)\n",
    "df0.drop([\"Category\"\n",
    "         ], axis=1, inplace=True)"
   ]
  },
  {
   "cell_type": "code",
   "execution_count": 28,
   "id": "36c921a3",
   "metadata": {
    "execution": {
     "iopub.execute_input": "2022-04-19T17:43:28.432262Z",
     "iopub.status.busy": "2022-04-19T17:43:28.431670Z",
     "iopub.status.idle": "2022-04-19T17:43:28.463445Z",
     "shell.execute_reply": "2022-04-19T17:43:28.462727Z"
    },
    "papermill": {
     "duration": 0.108573,
     "end_time": "2022-04-19T17:43:28.465653",
     "exception": false,
     "start_time": "2022-04-19T17:43:28.357080",
     "status": "completed"
    },
    "tags": []
   },
   "outputs": [
    {
     "data": {
      "text/html": [
       "<div>\n",
       "<style scoped>\n",
       "    .dataframe tbody tr th:only-of-type {\n",
       "        vertical-align: middle;\n",
       "    }\n",
       "\n",
       "    .dataframe tbody tr th {\n",
       "        vertical-align: top;\n",
       "    }\n",
       "\n",
       "    .dataframe thead th {\n",
       "        text-align: right;\n",
       "    }\n",
       "</style>\n",
       "<table border=\"1\" class=\"dataframe\">\n",
       "  <thead>\n",
       "    <tr style=\"text-align: right;\">\n",
       "      <th></th>\n",
       "      <th>Industry</th>\n",
       "      <th>Company</th>\n",
       "      <th>Category</th>\n",
       "      <th>DER (St.)</th>\n",
       "      <th>Operating Profit Margin (St.)</th>\n",
       "      <th>Sales Growth (St.)</th>\n",
       "      <th>Emitten</th>\n",
       "      <th>DER</th>\n",
       "      <th>Operating Profit Margin</th>\n",
       "      <th>Return On Asset</th>\n",
       "      <th>Sales Growth</th>\n",
       "    </tr>\n",
       "  </thead>\n",
       "  <tbody>\n",
       "    <tr>\n",
       "      <th>0</th>\n",
       "      <td>Oil Gas &amp; Coal Equipment &amp; Services</td>\n",
       "      <td>Adaro Energy Indonesia Tbk</td>\n",
       "      <td>2.0</td>\n",
       "      <td>0.091412</td>\n",
       "      <td>-0.243792</td>\n",
       "      <td>0.632902</td>\n",
       "      <td>ADRO</td>\n",
       "      <td>0.65</td>\n",
       "      <td>6.663</td>\n",
       "      <td>0.060000</td>\n",
       "      <td>0.575136</td>\n",
       "    </tr>\n",
       "    <tr>\n",
       "      <th>1</th>\n",
       "      <td>Oil Gas &amp; Coal Equipment &amp; Services</td>\n",
       "      <td>Apexindo Pratama Duta Tbk</td>\n",
       "      <td>1.0</td>\n",
       "      <td>0.255950</td>\n",
       "      <td>0.005143</td>\n",
       "      <td>-0.192570</td>\n",
       "      <td>APEX</td>\n",
       "      <td>1.69</td>\n",
       "      <td>42.550</td>\n",
       "      <td>0.180000</td>\n",
       "      <td>0.189673</td>\n",
       "    </tr>\n",
       "    <tr>\n",
       "      <th>2</th>\n",
       "      <td>Oil Gas &amp; Coal Equipment &amp; Services</td>\n",
       "      <td>Atlas Resources Tbk</td>\n",
       "      <td>1.0</td>\n",
       "      <td>1.402973</td>\n",
       "      <td>-0.185406</td>\n",
       "      <td>-1.302656</td>\n",
       "      <td>ARII</td>\n",
       "      <td>8.94</td>\n",
       "      <td>15.080</td>\n",
       "      <td>-0.038650</td>\n",
       "      <td>-0.328694</td>\n",
       "    </tr>\n",
       "    <tr>\n",
       "      <th>3</th>\n",
       "      <td>Oil Gas &amp; Coal Equipment &amp; Services</td>\n",
       "      <td>Ratu Prabu Energi Tbk</td>\n",
       "      <td>1.0</td>\n",
       "      <td>-0.870505</td>\n",
       "      <td>-0.498595</td>\n",
       "      <td>-0.598755</td>\n",
       "      <td>ARTI</td>\n",
       "      <td>-5.43</td>\n",
       "      <td>-30.070</td>\n",
       "      <td>-1.190000</td>\n",
       "      <td>0.000000</td>\n",
       "    </tr>\n",
       "    <tr>\n",
       "      <th>4</th>\n",
       "      <td>Oil Gas &amp; Coal Equipment &amp; Services</td>\n",
       "      <td>Astrindo Nusantara Infrastruktur Tbk</td>\n",
       "      <td>1.0</td>\n",
       "      <td>0.213233</td>\n",
       "      <td>1.554438</td>\n",
       "      <td>-0.368436</td>\n",
       "      <td>BIPI</td>\n",
       "      <td>1.42</td>\n",
       "      <td>265.900</td>\n",
       "      <td>0.010000</td>\n",
       "      <td>0.107550</td>\n",
       "    </tr>\n",
       "    <tr>\n",
       "      <th>5</th>\n",
       "      <td>Oil Gas &amp; Coal Equipment &amp; Services</td>\n",
       "      <td>Borneo Olah Sarana Sukses Tbk</td>\n",
       "      <td>4.0</td>\n",
       "      <td>-4.164439</td>\n",
       "      <td>-1.046102</td>\n",
       "      <td>-1.394917</td>\n",
       "      <td>BOSS</td>\n",
       "      <td>-26.25</td>\n",
       "      <td>-109.000</td>\n",
       "      <td>-0.300000</td>\n",
       "      <td>-0.371777</td>\n",
       "    </tr>\n",
       "    <tr>\n",
       "      <th>6</th>\n",
       "      <td>Oil Gas &amp; Coal Equipment &amp; Services</td>\n",
       "      <td>Baramulti Suksessarana Tbk</td>\n",
       "      <td>2.0</td>\n",
       "      <td>0.080337</td>\n",
       "      <td>-0.279709</td>\n",
       "      <td>1.726527</td>\n",
       "      <td>BSSR</td>\n",
       "      <td>0.58</td>\n",
       "      <td>1.485</td>\n",
       "      <td>0.410000</td>\n",
       "      <td>1.085816</td>\n",
       "    </tr>\n",
       "    <tr>\n",
       "      <th>7</th>\n",
       "      <td>Oil Gas &amp; Coal Equipment &amp; Services</td>\n",
       "      <td>Bumi Resources Tbk</td>\n",
       "      <td>2.0</td>\n",
       "      <td>1.921902</td>\n",
       "      <td>-0.282935</td>\n",
       "      <td>0.919573</td>\n",
       "      <td>BUMI</td>\n",
       "      <td>12.22</td>\n",
       "      <td>1.020</td>\n",
       "      <td>0.020000</td>\n",
       "      <td>0.709000</td>\n",
       "    </tr>\n",
       "    <tr>\n",
       "      <th>8</th>\n",
       "      <td>Oil Gas &amp; Coal Equipment &amp; Services</td>\n",
       "      <td>Bayan Resources Tbk</td>\n",
       "      <td>2.0</td>\n",
       "      <td>0.062934</td>\n",
       "      <td>-0.222448</td>\n",
       "      <td>1.637913</td>\n",
       "      <td>BYAN</td>\n",
       "      <td>0.47</td>\n",
       "      <td>9.740</td>\n",
       "      <td>0.460000</td>\n",
       "      <td>1.044437</td>\n",
       "    </tr>\n",
       "    <tr>\n",
       "      <th>9</th>\n",
       "      <td>Oil Gas &amp; Coal Equipment &amp; Services</td>\n",
       "      <td>Darma Henwa Tbk</td>\n",
       "      <td>1.0</td>\n",
       "      <td>0.164188</td>\n",
       "      <td>-0.119092</td>\n",
       "      <td>-0.856322</td>\n",
       "      <td>DEWA</td>\n",
       "      <td>1.11</td>\n",
       "      <td>24.640</td>\n",
       "      <td>-0.120227</td>\n",
       "      <td>-0.120274</td>\n",
       "    </tr>\n",
       "  </tbody>\n",
       "</table>\n",
       "</div>"
      ],
      "text/plain": [
       "                              Industry                               Company  \\\n",
       "0  Oil Gas & Coal Equipment & Services            Adaro Energy Indonesia Tbk   \n",
       "1  Oil Gas & Coal Equipment & Services             Apexindo Pratama Duta Tbk   \n",
       "2  Oil Gas & Coal Equipment & Services                   Atlas Resources Tbk   \n",
       "3  Oil Gas & Coal Equipment & Services                 Ratu Prabu Energi Tbk   \n",
       "4  Oil Gas & Coal Equipment & Services  Astrindo Nusantara Infrastruktur Tbk   \n",
       "5  Oil Gas & Coal Equipment & Services         Borneo Olah Sarana Sukses Tbk   \n",
       "6  Oil Gas & Coal Equipment & Services            Baramulti Suksessarana Tbk   \n",
       "7  Oil Gas & Coal Equipment & Services                    Bumi Resources Tbk   \n",
       "8  Oil Gas & Coal Equipment & Services                   Bayan Resources Tbk   \n",
       "9  Oil Gas & Coal Equipment & Services                       Darma Henwa Tbk   \n",
       "\n",
       "   Category  DER (St.)  Operating Profit Margin (St.)  Sales Growth (St.)  \\\n",
       "0       2.0   0.091412                      -0.243792            0.632902   \n",
       "1       1.0   0.255950                       0.005143           -0.192570   \n",
       "2       1.0   1.402973                      -0.185406           -1.302656   \n",
       "3       1.0  -0.870505                      -0.498595           -0.598755   \n",
       "4       1.0   0.213233                       1.554438           -0.368436   \n",
       "5       4.0  -4.164439                      -1.046102           -1.394917   \n",
       "6       2.0   0.080337                      -0.279709            1.726527   \n",
       "7       2.0   1.921902                      -0.282935            0.919573   \n",
       "8       2.0   0.062934                      -0.222448            1.637913   \n",
       "9       1.0   0.164188                      -0.119092           -0.856322   \n",
       "\n",
       "  Emitten    DER  Operating Profit Margin  Return On Asset  Sales Growth  \n",
       "0    ADRO   0.65                    6.663         0.060000      0.575136  \n",
       "1    APEX   1.69                   42.550         0.180000      0.189673  \n",
       "2    ARII   8.94                   15.080        -0.038650     -0.328694  \n",
       "3    ARTI  -5.43                  -30.070        -1.190000      0.000000  \n",
       "4    BIPI   1.42                  265.900         0.010000      0.107550  \n",
       "5    BOSS -26.25                 -109.000        -0.300000     -0.371777  \n",
       "6    BSSR   0.58                    1.485         0.410000      1.085816  \n",
       "7    BUMI  12.22                    1.020         0.020000      0.709000  \n",
       "8    BYAN   0.47                    9.740         0.460000      1.044437  \n",
       "9    DEWA   1.11                   24.640        -0.120227     -0.120274  "
      ]
     },
     "execution_count": 28,
     "metadata": {},
     "output_type": "execute_result"
    }
   ],
   "source": [
    "dftemp = pd.read_csv('../input/emitten-list/Emittenlist.csv')\n",
    "df = pd.concat([dftemp, new_df, df0], axis=1)\n",
    "df.head(10)"
   ]
  },
  {
   "cell_type": "code",
   "execution_count": 29,
   "id": "c8c404aa",
   "metadata": {
    "execution": {
     "iopub.execute_input": "2022-04-19T17:43:28.610915Z",
     "iopub.status.busy": "2022-04-19T17:43:28.610338Z",
     "iopub.status.idle": "2022-04-19T17:43:28.618576Z",
     "shell.execute_reply": "2022-04-19T17:43:28.617903Z"
    },
    "papermill": {
     "duration": 0.082898,
     "end_time": "2022-04-19T17:43:28.620995",
     "exception": false,
     "start_time": "2022-04-19T17:43:28.538097",
     "status": "completed"
    },
    "tags": []
   },
   "outputs": [],
   "source": [
    "df.to_csv('result.csv', index = False)"
   ]
  },
  {
   "cell_type": "markdown",
   "id": "7164c247",
   "metadata": {
    "papermill": {
     "duration": 0.072707,
     "end_time": "2022-04-19T17:43:28.764657",
     "exception": false,
     "start_time": "2022-04-19T17:43:28.691950",
     "status": "completed"
    },
    "tags": []
   },
   "source": [
    "# **4. Get Centroid**"
   ]
  },
  {
   "cell_type": "code",
   "execution_count": 30,
   "id": "80d1c006",
   "metadata": {
    "execution": {
     "iopub.execute_input": "2022-04-19T17:43:28.913946Z",
     "iopub.status.busy": "2022-04-19T17:43:28.913636Z",
     "iopub.status.idle": "2022-04-19T17:43:28.919480Z",
     "shell.execute_reply": "2022-04-19T17:43:28.918873Z"
    },
    "papermill": {
     "duration": 0.081992,
     "end_time": "2022-04-19T17:43:28.921425",
     "exception": false,
     "start_time": "2022-04-19T17:43:28.839433",
     "status": "completed"
    },
    "tags": []
   },
   "outputs": [
    {
     "data": {
      "text/plain": [
       "array([[ 0.2323279 , -0.19463064,  1.08587606],\n",
       "       [-3.71274898, -0.72837018, -1.11559467],\n",
       "       [ 0.20864537,  0.20907847, -0.64855377]])"
      ]
     },
     "execution_count": 30,
     "metadata": {},
     "output_type": "execute_result"
    }
   ],
   "source": [
    "kmeans.cluster_centers_"
   ]
  },
  {
   "cell_type": "code",
   "execution_count": 31,
   "id": "fb14800e",
   "metadata": {
    "execution": {
     "iopub.execute_input": "2022-04-19T17:43:29.075678Z",
     "iopub.status.busy": "2022-04-19T17:43:29.074728Z",
     "iopub.status.idle": "2022-04-19T17:43:29.322685Z",
     "shell.execute_reply": "2022-04-19T17:43:29.321884Z"
    },
    "papermill": {
     "duration": 0.327782,
     "end_time": "2022-04-19T17:43:29.325004",
     "exception": false,
     "start_time": "2022-04-19T17:43:28.997222",
     "status": "completed"
    },
    "tags": []
   },
   "outputs": [
    {
     "data": {
      "image/png": "[encoded data removed]",
      "text/plain": [
       "<Figure size 576x576 with 1 Axes>"
      ]
     },
     "metadata": {
      "needs_background": "light"
     },
     "output_type": "display_data"
    }
   ],
   "source": [
    "from mpl_toolkits.mplot3d import Axes3D\n",
    "\n",
    "fig = plt.figure()\n",
    "ax = fig.add_subplot(111, projection = '3d')\n",
    "x = [-1.0747699 ,  1.60761561,  1.45000206]\n",
    "y = [ 1.25270712, -0.73415244, -1.22811141]\n",
    "z = [-0.47688144, -0.04643691,  0.33540692]\n",
    "\n",
    "ax.set_xlabel(\"DER (St.)\")\n",
    "ax.set_ylabel(\"Operating Profit Margin (St.)\")\n",
    "ax.set_zlabel(\"Sales Growth (St.)\")\n",
    "ax.scatter(x, y, z)\n",
    "plt.show()"
   ]
  },
  {
   "cell_type": "markdown",
   "id": "1a6dc155",
   "metadata": {
    "papermill": {
     "duration": 0.077632,
     "end_time": "2022-04-19T17:43:29.478973",
     "exception": false,
     "start_time": "2022-04-19T17:43:29.401341",
     "status": "completed"
    },
    "tags": []
   },
   "source": [
    "# **5. Cluster Description**"
   ]
  },
  {
   "cell_type": "code",
   "execution_count": 32,
   "id": "74bfc96e",
   "metadata": {
    "execution": {
     "iopub.execute_input": "2022-04-19T17:43:29.632627Z",
     "iopub.status.busy": "2022-04-19T17:43:29.632033Z",
     "iopub.status.idle": "2022-04-19T17:43:29.667188Z",
     "shell.execute_reply": "2022-04-19T17:43:29.666349Z"
    },
    "papermill": {
     "duration": 0.113378,
     "end_time": "2022-04-19T17:43:29.669299",
     "exception": false,
     "start_time": "2022-04-19T17:43:29.555921",
     "status": "completed"
    },
    "tags": []
   },
   "outputs": [
    {
     "data": {
      "text/html": [
       "<div>\n",
       "<style scoped>\n",
       "    .dataframe tbody tr th:only-of-type {\n",
       "        vertical-align: middle;\n",
       "    }\n",
       "\n",
       "    .dataframe tbody tr th {\n",
       "        vertical-align: top;\n",
       "    }\n",
       "\n",
       "    .dataframe thead th {\n",
       "        text-align: right;\n",
       "    }\n",
       "</style>\n",
       "<table border=\"1\" class=\"dataframe\">\n",
       "  <thead>\n",
       "    <tr style=\"text-align: right;\">\n",
       "      <th></th>\n",
       "      <th>Category</th>\n",
       "      <th>DER (St.)</th>\n",
       "      <th>Operating Profit Margin (St.)</th>\n",
       "      <th>Sales Growth (St.)</th>\n",
       "      <th>DER</th>\n",
       "      <th>Operating Profit Margin</th>\n",
       "      <th>Return On Asset</th>\n",
       "      <th>Sales Growth</th>\n",
       "    </tr>\n",
       "  </thead>\n",
       "  <tbody>\n",
       "    <tr>\n",
       "      <th>count</th>\n",
       "      <td>2.0</td>\n",
       "      <td>2.000000</td>\n",
       "      <td>2.000000</td>\n",
       "      <td>2.000000</td>\n",
       "      <td>2.000000</td>\n",
       "      <td>2.000000</td>\n",
       "      <td>2.000000</td>\n",
       "      <td>2.000000</td>\n",
       "    </tr>\n",
       "    <tr>\n",
       "      <th>mean</th>\n",
       "      <td>4.0</td>\n",
       "      <td>-3.712749</td>\n",
       "      <td>-0.728370</td>\n",
       "      <td>-1.115595</td>\n",
       "      <td>-11.485000</td>\n",
       "      <td>-53.997000</td>\n",
       "      <td>-0.145000</td>\n",
       "      <td>-0.305828</td>\n",
       "    </tr>\n",
       "    <tr>\n",
       "      <th>std</th>\n",
       "      <td>0.0</td>\n",
       "      <td>0.638786</td>\n",
       "      <td>0.449341</td>\n",
       "      <td>0.395022</td>\n",
       "      <td>20.880863</td>\n",
       "      <td>77.785989</td>\n",
       "      <td>0.219203</td>\n",
       "      <td>0.093265</td>\n",
       "    </tr>\n",
       "    <tr>\n",
       "      <th>min</th>\n",
       "      <td>4.0</td>\n",
       "      <td>-4.164439</td>\n",
       "      <td>-1.046102</td>\n",
       "      <td>-1.394917</td>\n",
       "      <td>-26.250000</td>\n",
       "      <td>-109.000000</td>\n",
       "      <td>-0.300000</td>\n",
       "      <td>-0.371777</td>\n",
       "    </tr>\n",
       "    <tr>\n",
       "      <th>25%</th>\n",
       "      <td>4.0</td>\n",
       "      <td>-3.938594</td>\n",
       "      <td>-0.887236</td>\n",
       "      <td>-1.255256</td>\n",
       "      <td>-18.867500</td>\n",
       "      <td>-81.498500</td>\n",
       "      <td>-0.222500</td>\n",
       "      <td>-0.338802</td>\n",
       "    </tr>\n",
       "    <tr>\n",
       "      <th>50%</th>\n",
       "      <td>4.0</td>\n",
       "      <td>-3.712749</td>\n",
       "      <td>-0.728370</td>\n",
       "      <td>-1.115595</td>\n",
       "      <td>-11.485000</td>\n",
       "      <td>-53.997000</td>\n",
       "      <td>-0.145000</td>\n",
       "      <td>-0.305828</td>\n",
       "    </tr>\n",
       "    <tr>\n",
       "      <th>75%</th>\n",
       "      <td>4.0</td>\n",
       "      <td>-3.486904</td>\n",
       "      <td>-0.569504</td>\n",
       "      <td>-0.975933</td>\n",
       "      <td>-4.102500</td>\n",
       "      <td>-26.495500</td>\n",
       "      <td>-0.067500</td>\n",
       "      <td>-0.272854</td>\n",
       "    </tr>\n",
       "    <tr>\n",
       "      <th>max</th>\n",
       "      <td>4.0</td>\n",
       "      <td>-3.261059</td>\n",
       "      <td>-0.410638</td>\n",
       "      <td>-0.836272</td>\n",
       "      <td>3.280000</td>\n",
       "      <td>1.006000</td>\n",
       "      <td>0.010000</td>\n",
       "      <td>-0.239880</td>\n",
       "    </tr>\n",
       "  </tbody>\n",
       "</table>\n",
       "</div>"
      ],
      "text/plain": [
       "       Category  DER (St.)  Operating Profit Margin (St.)  Sales Growth (St.)  \\\n",
       "count       2.0   2.000000                       2.000000            2.000000   \n",
       "mean        4.0  -3.712749                      -0.728370           -1.115595   \n",
       "std         0.0   0.638786                       0.449341            0.395022   \n",
       "min         4.0  -4.164439                      -1.046102           -1.394917   \n",
       "25%         4.0  -3.938594                      -0.887236           -1.255256   \n",
       "50%         4.0  -3.712749                      -0.728370           -1.115595   \n",
       "75%         4.0  -3.486904                      -0.569504           -0.975933   \n",
       "max         4.0  -3.261059                      -0.410638           -0.836272   \n",
       "\n",
       "             DER  Operating Profit Margin  Return On Asset  Sales Growth  \n",
       "count   2.000000                 2.000000         2.000000      2.000000  \n",
       "mean  -11.485000               -53.997000        -0.145000     -0.305828  \n",
       "std    20.880863                77.785989         0.219203      0.093265  \n",
       "min   -26.250000              -109.000000        -0.300000     -0.371777  \n",
       "25%   -18.867500               -81.498500        -0.222500     -0.338802  \n",
       "50%   -11.485000               -53.997000        -0.145000     -0.305828  \n",
       "75%    -4.102500               -26.495500        -0.067500     -0.272854  \n",
       "max     3.280000                 1.006000         0.010000     -0.239880  "
      ]
     },
     "execution_count": 32,
     "metadata": {},
     "output_type": "execute_result"
    }
   ],
   "source": [
    "#Highly Positively Impacted\n",
    "df[df['Category'] == 4].describe() "
   ]
  },
  {
   "cell_type": "code",
   "execution_count": 33,
   "id": "8ada521d",
   "metadata": {
    "execution": {
     "iopub.execute_input": "2022-04-19T17:43:29.824056Z",
     "iopub.status.busy": "2022-04-19T17:43:29.823571Z",
     "iopub.status.idle": "2022-04-19T17:43:29.864180Z",
     "shell.execute_reply": "2022-04-19T17:43:29.863229Z"
    },
    "papermill": {
     "duration": 0.122528,
     "end_time": "2022-04-19T17:43:29.867016",
     "exception": false,
     "start_time": "2022-04-19T17:43:29.744488",
     "status": "completed"
    },
    "tags": []
   },
   "outputs": [
    {
     "data": {
      "text/html": [
       "<div>\n",
       "<style scoped>\n",
       "    .dataframe tbody tr th:only-of-type {\n",
       "        vertical-align: middle;\n",
       "    }\n",
       "\n",
       "    .dataframe tbody tr th {\n",
       "        vertical-align: top;\n",
       "    }\n",
       "\n",
       "    .dataframe thead th {\n",
       "        text-align: right;\n",
       "    }\n",
       "</style>\n",
       "<table border=\"1\" class=\"dataframe\">\n",
       "  <thead>\n",
       "    <tr style=\"text-align: right;\">\n",
       "      <th></th>\n",
       "      <th>Category</th>\n",
       "      <th>DER (St.)</th>\n",
       "      <th>Operating Profit Margin (St.)</th>\n",
       "      <th>Sales Growth (St.)</th>\n",
       "      <th>DER</th>\n",
       "      <th>Operating Profit Margin</th>\n",
       "      <th>Return On Asset</th>\n",
       "      <th>Sales Growth</th>\n",
       "    </tr>\n",
       "  </thead>\n",
       "  <tbody>\n",
       "    <tr>\n",
       "      <th>count</th>\n",
       "      <td>0.0</td>\n",
       "      <td>0.0</td>\n",
       "      <td>0.0</td>\n",
       "      <td>0.0</td>\n",
       "      <td>0.0</td>\n",
       "      <td>0.0</td>\n",
       "      <td>0.0</td>\n",
       "      <td>0.0</td>\n",
       "    </tr>\n",
       "    <tr>\n",
       "      <th>mean</th>\n",
       "      <td>NaN</td>\n",
       "      <td>NaN</td>\n",
       "      <td>NaN</td>\n",
       "      <td>NaN</td>\n",
       "      <td>NaN</td>\n",
       "      <td>NaN</td>\n",
       "      <td>NaN</td>\n",
       "      <td>NaN</td>\n",
       "    </tr>\n",
       "    <tr>\n",
       "      <th>std</th>\n",
       "      <td>NaN</td>\n",
       "      <td>NaN</td>\n",
       "      <td>NaN</td>\n",
       "      <td>NaN</td>\n",
       "      <td>NaN</td>\n",
       "      <td>NaN</td>\n",
       "      <td>NaN</td>\n",
       "      <td>NaN</td>\n",
       "    </tr>\n",
       "    <tr>\n",
       "      <th>min</th>\n",
       "      <td>NaN</td>\n",
       "      <td>NaN</td>\n",
       "      <td>NaN</td>\n",
       "      <td>NaN</td>\n",
       "      <td>NaN</td>\n",
       "      <td>NaN</td>\n",
       "      <td>NaN</td>\n",
       "      <td>NaN</td>\n",
       "    </tr>\n",
       "    <tr>\n",
       "      <th>25%</th>\n",
       "      <td>NaN</td>\n",
       "      <td>NaN</td>\n",
       "      <td>NaN</td>\n",
       "      <td>NaN</td>\n",
       "      <td>NaN</td>\n",
       "      <td>NaN</td>\n",
       "      <td>NaN</td>\n",
       "      <td>NaN</td>\n",
       "    </tr>\n",
       "    <tr>\n",
       "      <th>50%</th>\n",
       "      <td>NaN</td>\n",
       "      <td>NaN</td>\n",
       "      <td>NaN</td>\n",
       "      <td>NaN</td>\n",
       "      <td>NaN</td>\n",
       "      <td>NaN</td>\n",
       "      <td>NaN</td>\n",
       "      <td>NaN</td>\n",
       "    </tr>\n",
       "    <tr>\n",
       "      <th>75%</th>\n",
       "      <td>NaN</td>\n",
       "      <td>NaN</td>\n",
       "      <td>NaN</td>\n",
       "      <td>NaN</td>\n",
       "      <td>NaN</td>\n",
       "      <td>NaN</td>\n",
       "      <td>NaN</td>\n",
       "      <td>NaN</td>\n",
       "    </tr>\n",
       "    <tr>\n",
       "      <th>max</th>\n",
       "      <td>NaN</td>\n",
       "      <td>NaN</td>\n",
       "      <td>NaN</td>\n",
       "      <td>NaN</td>\n",
       "      <td>NaN</td>\n",
       "      <td>NaN</td>\n",
       "      <td>NaN</td>\n",
       "      <td>NaN</td>\n",
       "    </tr>\n",
       "  </tbody>\n",
       "</table>\n",
       "</div>"
      ],
      "text/plain": [
       "       Category  DER (St.)  Operating Profit Margin (St.)  Sales Growth (St.)  \\\n",
       "count       0.0        0.0                            0.0                 0.0   \n",
       "mean        NaN        NaN                            NaN                 NaN   \n",
       "std         NaN        NaN                            NaN                 NaN   \n",
       "min         NaN        NaN                            NaN                 NaN   \n",
       "25%         NaN        NaN                            NaN                 NaN   \n",
       "50%         NaN        NaN                            NaN                 NaN   \n",
       "75%         NaN        NaN                            NaN                 NaN   \n",
       "max         NaN        NaN                            NaN                 NaN   \n",
       "\n",
       "       DER  Operating Profit Margin  Return On Asset  Sales Growth  \n",
       "count  0.0                      0.0              0.0           0.0  \n",
       "mean   NaN                      NaN              NaN           NaN  \n",
       "std    NaN                      NaN              NaN           NaN  \n",
       "min    NaN                      NaN              NaN           NaN  \n",
       "25%    NaN                      NaN              NaN           NaN  \n",
       "50%    NaN                      NaN              NaN           NaN  \n",
       "75%    NaN                      NaN              NaN           NaN  \n",
       "max    NaN                      NaN              NaN           NaN  "
      ]
     },
     "execution_count": 33,
     "metadata": {},
     "output_type": "execute_result"
    }
   ],
   "source": [
    "#Highly Positively Impacted\n",
    "df[df['Category'] == 3].describe() "
   ]
  },
  {
   "cell_type": "code",
   "execution_count": 34,
   "id": "ddae7dcc",
   "metadata": {
    "execution": {
     "iopub.execute_input": "2022-04-19T17:43:30.025603Z",
     "iopub.status.busy": "2022-04-19T17:43:30.025302Z",
     "iopub.status.idle": "2022-04-19T17:43:30.068570Z",
     "shell.execute_reply": "2022-04-19T17:43:30.067386Z"
    },
    "papermill": {
     "duration": 0.128426,
     "end_time": "2022-04-19T17:43:30.070970",
     "exception": false,
     "start_time": "2022-04-19T17:43:29.942544",
     "status": "completed"
    },
    "tags": []
   },
   "outputs": [
    {
     "data": {
      "text/html": [
       "<div>\n",
       "<style scoped>\n",
       "    .dataframe tbody tr th:only-of-type {\n",
       "        vertical-align: middle;\n",
       "    }\n",
       "\n",
       "    .dataframe tbody tr th {\n",
       "        vertical-align: top;\n",
       "    }\n",
       "\n",
       "    .dataframe thead th {\n",
       "        text-align: right;\n",
       "    }\n",
       "</style>\n",
       "<table border=\"1\" class=\"dataframe\">\n",
       "  <thead>\n",
       "    <tr style=\"text-align: right;\">\n",
       "      <th></th>\n",
       "      <th>Category</th>\n",
       "      <th>DER (St.)</th>\n",
       "      <th>Operating Profit Margin (St.)</th>\n",
       "      <th>Sales Growth (St.)</th>\n",
       "      <th>DER</th>\n",
       "      <th>Operating Profit Margin</th>\n",
       "      <th>Return On Asset</th>\n",
       "      <th>Sales Growth</th>\n",
       "    </tr>\n",
       "  </thead>\n",
       "  <tbody>\n",
       "    <tr>\n",
       "      <th>count</th>\n",
       "      <td>14.0</td>\n",
       "      <td>14.000000</td>\n",
       "      <td>14.000000</td>\n",
       "      <td>14.000000</td>\n",
       "      <td>14.000000</td>\n",
       "      <td>14.000000</td>\n",
       "      <td>14.000000</td>\n",
       "      <td>14.000000</td>\n",
       "    </tr>\n",
       "    <tr>\n",
       "      <th>mean</th>\n",
       "      <td>2.0</td>\n",
       "      <td>0.232328</td>\n",
       "      <td>-0.194631</td>\n",
       "      <td>1.085876</td>\n",
       "      <td>1.616429</td>\n",
       "      <td>81.733786</td>\n",
       "      <td>0.130000</td>\n",
       "      <td>0.576380</td>\n",
       "    </tr>\n",
       "    <tr>\n",
       "      <th>std</th>\n",
       "      <td>0.0</td>\n",
       "      <td>0.502038</td>\n",
       "      <td>0.413165</td>\n",
       "      <td>0.662372</td>\n",
       "      <td>3.151292</td>\n",
       "      <td>217.308418</td>\n",
       "      <td>0.163754</td>\n",
       "      <td>0.435657</td>\n",
       "    </tr>\n",
       "    <tr>\n",
       "      <th>min</th>\n",
       "      <td>2.0</td>\n",
       "      <td>-0.001691</td>\n",
       "      <td>-1.123931</td>\n",
       "      <td>0.267560</td>\n",
       "      <td>0.150000</td>\n",
       "      <td>-120.220000</td>\n",
       "      <td>-0.020000</td>\n",
       "      <td>-0.073845</td>\n",
       "    </tr>\n",
       "    <tr>\n",
       "      <th>25%</th>\n",
       "      <td>2.0</td>\n",
       "      <td>0.053837</td>\n",
       "      <td>-0.279407</td>\n",
       "      <td>0.502901</td>\n",
       "      <td>0.455000</td>\n",
       "      <td>1.136250</td>\n",
       "      <td>0.005000</td>\n",
       "      <td>0.274287</td>\n",
       "    </tr>\n",
       "    <tr>\n",
       "      <th>50%</th>\n",
       "      <td>2.0</td>\n",
       "      <td>0.067680</td>\n",
       "      <td>-0.266603</td>\n",
       "      <td>1.000950</td>\n",
       "      <td>0.615000</td>\n",
       "      <td>3.374500</td>\n",
       "      <td>0.060000</td>\n",
       "      <td>0.534666</td>\n",
       "    </tr>\n",
       "    <tr>\n",
       "      <th>75%</th>\n",
       "      <td>2.0</td>\n",
       "      <td>0.091412</td>\n",
       "      <td>-0.227784</td>\n",
       "      <td>1.544755</td>\n",
       "      <td>1.047500</td>\n",
       "      <td>16.430000</td>\n",
       "      <td>0.225000</td>\n",
       "      <td>0.979577</td>\n",
       "    </tr>\n",
       "    <tr>\n",
       "      <th>max</th>\n",
       "      <td>2.0</td>\n",
       "      <td>1.921902</td>\n",
       "      <td>0.624167</td>\n",
       "      <td>2.456651</td>\n",
       "      <td>12.220000</td>\n",
       "      <td>744.890000</td>\n",
       "      <td>0.460000</td>\n",
       "      <td>1.185336</td>\n",
       "    </tr>\n",
       "  </tbody>\n",
       "</table>\n",
       "</div>"
      ],
      "text/plain": [
       "       Category  DER (St.)  Operating Profit Margin (St.)  Sales Growth (St.)  \\\n",
       "count      14.0  14.000000                      14.000000           14.000000   \n",
       "mean        2.0   0.232328                      -0.194631            1.085876   \n",
       "std         0.0   0.502038                       0.413165            0.662372   \n",
       "min         2.0  -0.001691                      -1.123931            0.267560   \n",
       "25%         2.0   0.053837                      -0.279407            0.502901   \n",
       "50%         2.0   0.067680                      -0.266603            1.000950   \n",
       "75%         2.0   0.091412                      -0.227784            1.544755   \n",
       "max         2.0   1.921902                       0.624167            2.456651   \n",
       "\n",
       "             DER  Operating Profit Margin  Return On Asset  Sales Growth  \n",
       "count  14.000000                14.000000        14.000000     14.000000  \n",
       "mean    1.616429                81.733786         0.130000      0.576380  \n",
       "std     3.151292               217.308418         0.163754      0.435657  \n",
       "min     0.150000              -120.220000        -0.020000     -0.073845  \n",
       "25%     0.455000                 1.136250         0.005000      0.274287  \n",
       "50%     0.615000                 3.374500         0.060000      0.534666  \n",
       "75%     1.047500                16.430000         0.225000      0.979577  \n",
       "max    12.220000               744.890000         0.460000      1.185336  "
      ]
     },
     "execution_count": 34,
     "metadata": {},
     "output_type": "execute_result"
    }
   ],
   "source": [
    "#Highly Positively Impacted\n",
    "df[df['Category'] == 2].describe() "
   ]
  },
  {
   "cell_type": "code",
   "execution_count": 35,
   "id": "7de15a02",
   "metadata": {
    "execution": {
     "iopub.execute_input": "2022-04-19T17:43:30.234317Z",
     "iopub.status.busy": "2022-04-19T17:43:30.233970Z",
     "iopub.status.idle": "2022-04-19T17:43:30.271476Z",
     "shell.execute_reply": "2022-04-19T17:43:30.270203Z"
    },
    "papermill": {
     "duration": 0.121406,
     "end_time": "2022-04-19T17:43:30.274044",
     "exception": false,
     "start_time": "2022-04-19T17:43:30.152638",
     "status": "completed"
    },
    "tags": []
   },
   "outputs": [
    {
     "data": {
      "text/html": [
       "<div>\n",
       "<style scoped>\n",
       "    .dataframe tbody tr th:only-of-type {\n",
       "        vertical-align: middle;\n",
       "    }\n",
       "\n",
       "    .dataframe tbody tr th {\n",
       "        vertical-align: top;\n",
       "    }\n",
       "\n",
       "    .dataframe thead th {\n",
       "        text-align: right;\n",
       "    }\n",
       "</style>\n",
       "<table border=\"1\" class=\"dataframe\">\n",
       "  <thead>\n",
       "    <tr style=\"text-align: right;\">\n",
       "      <th></th>\n",
       "      <th>Category</th>\n",
       "      <th>DER (St.)</th>\n",
       "      <th>Operating Profit Margin (St.)</th>\n",
       "      <th>Sales Growth (St.)</th>\n",
       "      <th>DER</th>\n",
       "      <th>Operating Profit Margin</th>\n",
       "      <th>Return On Asset</th>\n",
       "      <th>Sales Growth</th>\n",
       "    </tr>\n",
       "  </thead>\n",
       "  <tbody>\n",
       "    <tr>\n",
       "      <th>count</th>\n",
       "      <td>20.0</td>\n",
       "      <td>20.000000</td>\n",
       "      <td>20.000000</td>\n",
       "      <td>20.000000</td>\n",
       "      <td>20.000000</td>\n",
       "      <td>20.000000</td>\n",
       "      <td>20.000000</td>\n",
       "      <td>20.000000</td>\n",
       "    </tr>\n",
       "    <tr>\n",
       "      <th>mean</th>\n",
       "      <td>1.0</td>\n",
       "      <td>0.208645</td>\n",
       "      <td>0.209078</td>\n",
       "      <td>-0.648554</td>\n",
       "      <td>0.170000</td>\n",
       "      <td>95.584150</td>\n",
       "      <td>-0.027944</td>\n",
       "      <td>0.150142</td>\n",
       "    </tr>\n",
       "    <tr>\n",
       "      <th>std</th>\n",
       "      <td>0.0</td>\n",
       "      <td>0.405234</td>\n",
       "      <td>1.279664</td>\n",
       "      <td>0.379131</td>\n",
       "      <td>5.489839</td>\n",
       "      <td>224.021418</td>\n",
       "      <td>0.292605</td>\n",
       "      <td>0.432044</td>\n",
       "    </tr>\n",
       "    <tr>\n",
       "      <th>min</th>\n",
       "      <td>1.0</td>\n",
       "      <td>-0.870505</td>\n",
       "      <td>-1.889665</td>\n",
       "      <td>-1.387641</td>\n",
       "      <td>-20.540000</td>\n",
       "      <td>-230.610000</td>\n",
       "      <td>-1.190000</td>\n",
       "      <td>-0.368379</td>\n",
       "    </tr>\n",
       "    <tr>\n",
       "      <th>25%</th>\n",
       "      <td>1.0</td>\n",
       "      <td>0.089039</td>\n",
       "      <td>-0.368689</td>\n",
       "      <td>-0.781751</td>\n",
       "      <td>0.380000</td>\n",
       "      <td>-11.342500</td>\n",
       "      <td>-0.041488</td>\n",
       "      <td>-0.027728</td>\n",
       "    </tr>\n",
       "    <tr>\n",
       "      <th>50%</th>\n",
       "      <td>1.0</td>\n",
       "      <td>0.171308</td>\n",
       "      <td>-0.229315</td>\n",
       "      <td>-0.598755</td>\n",
       "      <td>0.875000</td>\n",
       "      <td>14.645000</td>\n",
       "      <td>0.005000</td>\n",
       "      <td>0.006262</td>\n",
       "    </tr>\n",
       "    <tr>\n",
       "      <th>75%</th>\n",
       "      <td>1.0</td>\n",
       "      <td>0.261883</td>\n",
       "      <td>0.292337</td>\n",
       "      <td>-0.456032</td>\n",
       "      <td>1.547500</td>\n",
       "      <td>129.000000</td>\n",
       "      <td>0.065000</td>\n",
       "      <td>0.204750</td>\n",
       "    </tr>\n",
       "    <tr>\n",
       "      <th>max</th>\n",
       "      <td>1.0</td>\n",
       "      <td>1.402973</td>\n",
       "      <td>4.175372</td>\n",
       "      <td>-0.063421</td>\n",
       "      <td>8.940000</td>\n",
       "      <td>699.710000</td>\n",
       "      <td>0.290000</td>\n",
       "      <td>1.426756</td>\n",
       "    </tr>\n",
       "  </tbody>\n",
       "</table>\n",
       "</div>"
      ],
      "text/plain": [
       "       Category  DER (St.)  Operating Profit Margin (St.)  Sales Growth (St.)  \\\n",
       "count      20.0  20.000000                      20.000000           20.000000   \n",
       "mean        1.0   0.208645                       0.209078           -0.648554   \n",
       "std         0.0   0.405234                       1.279664            0.379131   \n",
       "min         1.0  -0.870505                      -1.889665           -1.387641   \n",
       "25%         1.0   0.089039                      -0.368689           -0.781751   \n",
       "50%         1.0   0.171308                      -0.229315           -0.598755   \n",
       "75%         1.0   0.261883                       0.292337           -0.456032   \n",
       "max         1.0   1.402973                       4.175372           -0.063421   \n",
       "\n",
       "             DER  Operating Profit Margin  Return On Asset  Sales Growth  \n",
       "count  20.000000                20.000000        20.000000     20.000000  \n",
       "mean    0.170000                95.584150        -0.027944      0.150142  \n",
       "std     5.489839               224.021418         0.292605      0.432044  \n",
       "min   -20.540000              -230.610000        -1.190000     -0.368379  \n",
       "25%     0.380000               -11.342500        -0.041488     -0.027728  \n",
       "50%     0.875000                14.645000         0.005000      0.006262  \n",
       "75%     1.547500               129.000000         0.065000      0.204750  \n",
       "max     8.940000               699.710000         0.290000      1.426756  "
      ]
     },
     "execution_count": 35,
     "metadata": {},
     "output_type": "execute_result"
    }
   ],
   "source": [
    "#Highly Positively Impacted\n",
    "df[df['Category'] == 1].describe() "
   ]
  },
  {
   "cell_type": "code",
   "execution_count": 36,
   "id": "60c38c9d",
   "metadata": {
    "execution": {
     "iopub.execute_input": "2022-04-19T17:43:30.432250Z",
     "iopub.status.busy": "2022-04-19T17:43:30.431985Z",
     "iopub.status.idle": "2022-04-19T17:43:30.467232Z",
     "shell.execute_reply": "2022-04-19T17:43:30.466317Z"
    },
    "papermill": {
     "duration": 0.117401,
     "end_time": "2022-04-19T17:43:30.469421",
     "exception": false,
     "start_time": "2022-04-19T17:43:30.352020",
     "status": "completed"
    },
    "tags": []
   },
   "outputs": [
    {
     "data": {
      "text/html": [
       "<div>\n",
       "<style scoped>\n",
       "    .dataframe tbody tr th:only-of-type {\n",
       "        vertical-align: middle;\n",
       "    }\n",
       "\n",
       "    .dataframe tbody tr th {\n",
       "        vertical-align: top;\n",
       "    }\n",
       "\n",
       "    .dataframe thead th {\n",
       "        text-align: right;\n",
       "    }\n",
       "</style>\n",
       "<table border=\"1\" class=\"dataframe\">\n",
       "  <thead>\n",
       "    <tr style=\"text-align: right;\">\n",
       "      <th></th>\n",
       "      <th>Category</th>\n",
       "      <th>DER (St.)</th>\n",
       "      <th>Operating Profit Margin (St.)</th>\n",
       "      <th>Sales Growth (St.)</th>\n",
       "      <th>DER</th>\n",
       "      <th>Operating Profit Margin</th>\n",
       "      <th>Return On Asset</th>\n",
       "      <th>Sales Growth</th>\n",
       "    </tr>\n",
       "  </thead>\n",
       "  <tbody>\n",
       "    <tr>\n",
       "      <th>count</th>\n",
       "      <td>0.0</td>\n",
       "      <td>0.0</td>\n",
       "      <td>0.0</td>\n",
       "      <td>0.0</td>\n",
       "      <td>0.0</td>\n",
       "      <td>0.0</td>\n",
       "      <td>0.0</td>\n",
       "      <td>0.0</td>\n",
       "    </tr>\n",
       "    <tr>\n",
       "      <th>mean</th>\n",
       "      <td>NaN</td>\n",
       "      <td>NaN</td>\n",
       "      <td>NaN</td>\n",
       "      <td>NaN</td>\n",
       "      <td>NaN</td>\n",
       "      <td>NaN</td>\n",
       "      <td>NaN</td>\n",
       "      <td>NaN</td>\n",
       "    </tr>\n",
       "    <tr>\n",
       "      <th>std</th>\n",
       "      <td>NaN</td>\n",
       "      <td>NaN</td>\n",
       "      <td>NaN</td>\n",
       "      <td>NaN</td>\n",
       "      <td>NaN</td>\n",
       "      <td>NaN</td>\n",
       "      <td>NaN</td>\n",
       "      <td>NaN</td>\n",
       "    </tr>\n",
       "    <tr>\n",
       "      <th>min</th>\n",
       "      <td>NaN</td>\n",
       "      <td>NaN</td>\n",
       "      <td>NaN</td>\n",
       "      <td>NaN</td>\n",
       "      <td>NaN</td>\n",
       "      <td>NaN</td>\n",
       "      <td>NaN</td>\n",
       "      <td>NaN</td>\n",
       "    </tr>\n",
       "    <tr>\n",
       "      <th>25%</th>\n",
       "      <td>NaN</td>\n",
       "      <td>NaN</td>\n",
       "      <td>NaN</td>\n",
       "      <td>NaN</td>\n",
       "      <td>NaN</td>\n",
       "      <td>NaN</td>\n",
       "      <td>NaN</td>\n",
       "      <td>NaN</td>\n",
       "    </tr>\n",
       "    <tr>\n",
       "      <th>50%</th>\n",
       "      <td>NaN</td>\n",
       "      <td>NaN</td>\n",
       "      <td>NaN</td>\n",
       "      <td>NaN</td>\n",
       "      <td>NaN</td>\n",
       "      <td>NaN</td>\n",
       "      <td>NaN</td>\n",
       "      <td>NaN</td>\n",
       "    </tr>\n",
       "    <tr>\n",
       "      <th>75%</th>\n",
       "      <td>NaN</td>\n",
       "      <td>NaN</td>\n",
       "      <td>NaN</td>\n",
       "      <td>NaN</td>\n",
       "      <td>NaN</td>\n",
       "      <td>NaN</td>\n",
       "      <td>NaN</td>\n",
       "      <td>NaN</td>\n",
       "    </tr>\n",
       "    <tr>\n",
       "      <th>max</th>\n",
       "      <td>NaN</td>\n",
       "      <td>NaN</td>\n",
       "      <td>NaN</td>\n",
       "      <td>NaN</td>\n",
       "      <td>NaN</td>\n",
       "      <td>NaN</td>\n",
       "      <td>NaN</td>\n",
       "      <td>NaN</td>\n",
       "    </tr>\n",
       "  </tbody>\n",
       "</table>\n",
       "</div>"
      ],
      "text/plain": [
       "       Category  DER (St.)  Operating Profit Margin (St.)  Sales Growth (St.)  \\\n",
       "count       0.0        0.0                            0.0                 0.0   \n",
       "mean        NaN        NaN                            NaN                 NaN   \n",
       "std         NaN        NaN                            NaN                 NaN   \n",
       "min         NaN        NaN                            NaN                 NaN   \n",
       "25%         NaN        NaN                            NaN                 NaN   \n",
       "50%         NaN        NaN                            NaN                 NaN   \n",
       "75%         NaN        NaN                            NaN                 NaN   \n",
       "max         NaN        NaN                            NaN                 NaN   \n",
       "\n",
       "       DER  Operating Profit Margin  Return On Asset  Sales Growth  \n",
       "count  0.0                      0.0              0.0           0.0  \n",
       "mean   NaN                      NaN              NaN           NaN  \n",
       "std    NaN                      NaN              NaN           NaN  \n",
       "min    NaN                      NaN              NaN           NaN  \n",
       "25%    NaN                      NaN              NaN           NaN  \n",
       "50%    NaN                      NaN              NaN           NaN  \n",
       "75%    NaN                      NaN              NaN           NaN  \n",
       "max    NaN                      NaN              NaN           NaN  "
      ]
     },
     "execution_count": 36,
     "metadata": {},
     "output_type": "execute_result"
    }
   ],
   "source": [
    "#Highly Positively Impacted\n",
    "df[df['Category'] == 0].describe() "
   ]
  }
 ],
 "metadata": {
  "kernelspec": {
   "display_name": "Python 3",
   "language": "python",
   "name": "python3"
  },
  "language_info": {
   "codemirror_mode": {
    "name": "ipython",
    "version": 3
   },
   "file_extension": ".py",
   "mimetype": "text/x-python",
   "name": "python",
   "nbconvert_exporter": "python",
   "pygments_lexer": "ipython3",
   "version": "3.7.12"
  },
  "papermill": {
   "default_parameters": {},
   "duration": 28.069096,
   "end_time": "2022-04-19T17:43:31.467405",
   "environment_variables": {},
   "exception": null,
   "input_path": "__notebook__.ipynb",
   "output_path": "__notebook__.ipynb",
   "parameters": {},
   "start_time": "2022-04-19T17:43:03.398309",
   "version": "2.3.4"
  }
 },
 "nbformat": 4,
 "nbformat_minor": 5
}
